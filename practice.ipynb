{
 "cells": [
  {
   "cell_type": "code",
   "execution_count": 2,
   "metadata": {},
   "outputs": [
    {
     "name": "stdout",
     "output_type": "stream",
     "text": [
      "[0, 1, 2, 3, 4]\n"
     ]
    }
   ],
   "source": [
    "lst = [1,2,3,4,5]\n",
    "result = [i-1 for i in lst]\n",
    "print(result)"
   ]
  },
  {
   "cell_type": "code",
   "execution_count": 3,
   "metadata": {},
   "outputs": [
    {
     "name": "stdout",
     "output_type": "stream",
     "text": [
      "[1, 3, 5, 7, 9, 11, 13, 15, 17, 19, 21, 23, 25, 27, 29, 31, 33, 35, 37, 39, 41, 43, 45, 47, 49, 51, 53, 55, 57, 59, 61, 63, 65, 67, 69, 71, 73, 75, 77, 79, 81, 83, 85, 87, 89, 91, 93, 95, 97, 99]\n"
     ]
    }
   ],
   "source": [
    "odd = [i for i in range(101) if i%2!=0]\n",
    "print(odd)"
   ]
  },
  {
   "cell_type": "code",
   "execution_count": 4,
   "metadata": {},
   "outputs": [
    {
     "name": "stdout",
     "output_type": "stream",
     "text": [
      "[1, 2, 3, 4, 5, 6, 7, 23]\n"
     ]
    }
   ],
   "source": [
    "lst = [1,2,3,4,5,6,7,5,1,2,3,4,5,23,1,2,4,5,3,1]\n",
    "\n",
    "lst = list(set(lst))\n",
    "print(lst)"
   ]
  },
  {
   "cell_type": "code",
   "execution_count": 5,
   "metadata": {},
   "outputs": [
    {
     "name": "stdout",
     "output_type": "stream",
     "text": [
      "['1', '10', '11', '100', '101']\n"
     ]
    }
   ],
   "source": [
    "num = [1,2,3,4,5]\n",
    "\n",
    "result = [bin(i)[2:] for i in num]\n",
    "print(result)"
   ]
  },
  {
   "cell_type": "code",
   "execution_count": 8,
   "metadata": {},
   "outputs": [
    {
     "name": "stdout",
     "output_type": "stream",
     "text": [
      "a=5 and b=10\n"
     ]
    }
   ],
   "source": [
    "# swapping\n",
    "\n",
    "a = 10\n",
    "b = 5\n",
    "\n",
    "a,b = b,a\n",
    "\n",
    "print(f\"a={a} and b={b}\")\n"
   ]
  },
  {
   "cell_type": "code",
   "execution_count": null,
   "metadata": {},
   "outputs": [
    {
     "data": {
      "text/plain": [
       "'shubham'"
      ]
     },
     "execution_count": 10,
     "metadata": {},
     "output_type": "execute_result"
    }
   ],
   "source": [
    "str = \"shubham\"\n",
    "\n",
    "str.upper()\n",
    "str.lower()\n",
    "\n"
   ]
  },
  {
   "cell_type": "code",
   "execution_count": 12,
   "metadata": {},
   "outputs": [
    {
     "name": "stdout",
     "output_type": "stream",
     "text": [
      "5*1 = 5\n",
      "5*2 = 10\n",
      "5*3 = 15\n",
      "5*4 = 20\n",
      "5*5 = 25\n",
      "5*6 = 30\n",
      "5*7 = 35\n",
      "5*8 = 40\n",
      "5*9 = 45\n",
      "5*10 = 50\n"
     ]
    }
   ],
   "source": [
    "n = int(input(\"Enter a number\"))\n",
    "\n",
    "for i in range(1,11):\n",
    "    print(f\"{n}*{i} = {n*i}\")"
   ]
  },
  {
   "cell_type": "code",
   "execution_count": 16,
   "metadata": {},
   "outputs": [],
   "source": [
    "def is_odd(num):\n",
    "    if num%2 !=0:\n",
    "        print(\"Odd number\")\n",
    "    else:\n",
    "        print(\"Even Number\")\n"
   ]
  },
  {
   "cell_type": "code",
   "execution_count": 17,
   "metadata": {},
   "outputs": [
    {
     "name": "stdout",
     "output_type": "stream",
     "text": [
      "Odd number\n"
     ]
    }
   ],
   "source": [
    "is_odd(3)"
   ]
  },
  {
   "cell_type": "code",
   "execution_count": 42,
   "metadata": {},
   "outputs": [],
   "source": [
    "# linear search\n",
    "\n",
    "arr = [5,8,9,4,1,2,3,4,8]\n",
    "\n",
    "def loc(arr,target):\n",
    "    for i in arr:\n",
    "        if i == target:\n",
    "            print(f\"{target} is present at {arr.index(i)} location\")\n",
    "        else:\n",
    "            pass\n",
    "\n"
   ]
  },
  {
   "cell_type": "code",
   "execution_count": 43,
   "metadata": {},
   "outputs": [
    {
     "name": "stdout",
     "output_type": "stream",
     "text": [
      "4 is present at 3 location\n",
      "4 is present at 3 location\n"
     ]
    }
   ],
   "source": [
    "loc(arr,4)"
   ]
  },
  {
   "cell_type": "code",
   "execution_count": 46,
   "metadata": {},
   "outputs": [],
   "source": [
    "def greet(fx):\n",
    "    def mfx(*args,**kwargs):\n",
    "        print(\"GM\")\n",
    "        fx(*args,**kwargs)\n",
    "        print(\"whatsup\")\n",
    "    return(mfx)\n"
   ]
  },
  {
   "cell_type": "code",
   "execution_count": 47,
   "metadata": {},
   "outputs": [
    {
     "name": "stdout",
     "output_type": "stream",
     "text": [
      "GM\n",
      "8\n",
      "whatsup\n"
     ]
    }
   ],
   "source": [
    "@greet\n",
    "def total(a,b):\n",
    "    print(a+b)\n",
    "\n",
    "\n",
    "\n",
    "total(5,3)\n",
    "\n"
   ]
  },
  {
   "cell_type": "code",
   "execution_count": 48,
   "metadata": {},
   "outputs": [
    {
     "data": {
      "text/plain": [
       "25"
      ]
     },
     "execution_count": 48,
     "metadata": {},
     "output_type": "execute_result"
    }
   ],
   "source": [
    "double = lambda x: x*x\n",
    "\n",
    "\n",
    "double(5)"
   ]
  },
  {
   "cell_type": "code",
   "execution_count": 52,
   "metadata": {},
   "outputs": [],
   "source": [
    "multi = lambda x,y: x*y"
   ]
  },
  {
   "cell_type": "code",
   "execution_count": 53,
   "metadata": {},
   "outputs": [
    {
     "data": {
      "text/plain": [
       "15"
      ]
     },
     "execution_count": 53,
     "metadata": {},
     "output_type": "execute_result"
    }
   ],
   "source": [
    "multi(5,3)"
   ]
  },
  {
   "cell_type": "code",
   "execution_count": 56,
   "metadata": {},
   "outputs": [
    {
     "data": {
      "text/plain": [
       "[8, 4, 6, 8, 12]"
      ]
     },
     "execution_count": 56,
     "metadata": {},
     "output_type": "execute_result"
    }
   ],
   "source": [
    "num = [5,8,7,9,5,3,1,5,4,6,8,12,25,3]\n",
    "\n",
    "even = list(filter(lambda num: num%2 ==0,num ))\n",
    "even"
   ]
  },
  {
   "cell_type": "code",
   "execution_count": 57,
   "metadata": {},
   "outputs": [],
   "source": [
    "def switch(case):\n",
    "    if case == \"math\":\n",
    "        print(\"paper on 13\")\n",
    "\n",
    "    if case == \"phy\":\n",
    "        print(\"Paper on 14\")"
   ]
  },
  {
   "cell_type": "code",
   "execution_count": 58,
   "metadata": {},
   "outputs": [
    {
     "name": "stdout",
     "output_type": "stream",
     "text": [
      "paper on 13\n"
     ]
    }
   ],
   "source": [
    "switch(\"math\")"
   ]
  },
  {
   "cell_type": "code",
   "execution_count": null,
   "metadata": {},
   "outputs": [
    {
     "name": "stdout",
     "output_type": "stream",
     "text": [
      "['m', 'a', 'h', 'b', 'u', 'H', 'S']\n"
     ]
    }
   ],
   "source": [
    "str = [\"S\",\"H\",\"u\",\"b\",\"h\",\"a\",\"m\"]\n",
    "re = str[::-1]\n",
    "print(re)"
   ]
  },
  {
   "cell_type": "code",
   "execution_count": 77,
   "metadata": {},
   "outputs": [],
   "source": [
    "a = [-2,1,3,4,5]\n",
    "n = len(a)\n",
    "\n",
    "def find(a,n):\n",
    "    if n==1:\n",
    "        return a[0]\n",
    "    \n",
    "    if a[0]<a[1]:\n",
    "        mini = a[0]\n",
    "        maxi = a[1]\n",
    "\n",
    "    else:\n",
    "        mini = a[1]\n",
    "        maxi = a[0]\n",
    "\n",
    "    for i in range(2,n):\n",
    "        if a[i]>maxi:\n",
    "            maxi = a[i]\n",
    "\n",
    "        elif a[i]< mini:\n",
    "            mini = a[i]\n",
    "\n",
    "    return maxi+mini"
   ]
  },
  {
   "cell_type": "code",
   "execution_count": 78,
   "metadata": {},
   "outputs": [
    {
     "data": {
      "text/plain": [
       "3"
      ]
     },
     "execution_count": 78,
     "metadata": {},
     "output_type": "execute_result"
    }
   ],
   "source": [
    "find(a,len(a))"
   ]
  },
  {
   "cell_type": "code",
   "execution_count": 3,
   "metadata": {},
   "outputs": [
    {
     "name": "stdout",
     "output_type": "stream",
     "text": [
      "mam\n",
      "the given string is palindrom\n"
     ]
    }
   ],
   "source": [
    "name = \"mam\"\n",
    "print(name)\n",
    "\n",
    "k = name[::-1]\n",
    "if k == name:\n",
    "    print(\"the given string is palindrom\")\n",
    "\n",
    "else:\n",
    "    print(\"not palindrom\")"
   ]
  },
  {
   "cell_type": "code",
   "execution_count": 7,
   "metadata": {},
   "outputs": [
    {
     "name": "stdout",
     "output_type": "stream",
     "text": [
      "Leap year\n"
     ]
    }
   ],
   "source": [
    "year = int(input(\"Enter a year\"))\n",
    "\n",
    "if year%400==0 and year%100 ==0:\n",
    "    print(\"Leap year\")\n",
    "\n",
    "elif year%4==0 and year%100!=0:\n",
    "    print(\"leap year\")\n",
    "\n",
    "else:\n",
    "    print(\"Not an leap year\")\n",
    "\n",
    "\n"
   ]
  },
  {
   "cell_type": "code",
   "execution_count": 8,
   "metadata": {},
   "outputs": [
    {
     "data": {
      "text/plain": [
       "31.622776601683793"
      ]
     },
     "execution_count": 8,
     "metadata": {},
     "output_type": "execute_result"
    }
   ],
   "source": [
    "x1 = float(input(\"enter a x1\"))\n",
    "x2 = float(input(\"Enter a x2\"))\n",
    "y1 = float(input(\"y1 coordinate\"))\n",
    "y2 = float(input(\"y2\"))\n",
    "\n",
    "coor = ((x2-x1)**2+(y2-y1)**2)**0.5\n",
    "\n",
    "coor"
   ]
  },
  {
   "cell_type": "code",
   "execution_count": 9,
   "metadata": {},
   "outputs": [],
   "source": [
    "## triangle \n",
    "\n",
    "def is_tri(a1,a2,a3):\n",
    "    if a1+a2+a3 == 180:\n",
    "        print(\"it is triangle\")\n",
    "\n",
    "    else:\n",
    "        print(\"not a triangle\")\n",
    "\n"
   ]
  },
  {
   "cell_type": "code",
   "execution_count": 10,
   "metadata": {},
   "outputs": [
    {
     "name": "stdout",
     "output_type": "stream",
     "text": [
      "it is triangle\n"
     ]
    }
   ],
   "source": [
    "is_tri(90,45,45)"
   ]
  },
  {
   "cell_type": "code",
   "execution_count": 12,
   "metadata": {},
   "outputs": [],
   "source": [
    "import math\n",
    "\n",
    "r = 5.2\n",
    "h = 10\n",
    "\n",
    "volume = (math.pi*(r**2)*h)\n",
    "volume_lit = volume/1000\n"
   ]
  },
  {
   "cell_type": "code",
   "execution_count": 37,
   "metadata": {},
   "outputs": [
    {
     "name": "stdout",
     "output_type": "stream",
     "text": [
      "3\n",
      "153\n",
      "ia amstrong\n"
     ]
    }
   ],
   "source": [
    "def is_Amstrong(num):\n",
    "    num = str(num)\n",
    "    length = len(num)\n",
    "    print(length)\n",
    "    sum_ofall = sum(int(num)**length for num in num)\n",
    "    print(sum_ofall)\n",
    "    if sum_ofall == int(num):\n",
    "        print(\"ia amstrong\")\n",
    "    else:\n",
    "        print(\"Not amstrong\")\n",
    "\n",
    "    \n",
    "\n",
    "is_Amstrong(153)"
   ]
  },
  {
   "cell_type": "code",
   "execution_count": 42,
   "metadata": {},
   "outputs": [],
   "source": [
    "def get_angel(h,m):\n",
    "    h_angle = (h+m/60)*30\n",
    "    m_angle = (m*6)\n",
    "\n",
    "    angle = abs(m_angle-h_angle)\n",
    "    angle = min(angle,360-angle)\n",
    "    angle = int(angle)\n",
    "    print(angle)\n"
   ]
  },
  {
   "cell_type": "code",
   "execution_count": 43,
   "metadata": {},
   "outputs": [
    {
     "name": "stdout",
     "output_type": "stream",
     "text": [
      "62\n"
     ]
    }
   ],
   "source": [
    "get_angel(3,5)"
   ]
  },
  {
   "cell_type": "code",
   "execution_count": 57,
   "metadata": {},
   "outputs": [],
   "source": [
    "def prime(num):\n",
    "    if num==1:\n",
    "        print(\"prime\")\n",
    "    if num >1:\n",
    "        for i in range(2,num):\n",
    "            if num%i ==0:\n",
    "                print(\"Not prime\")\n",
    "                break\n",
    "            else:\n",
    "                print(\"prime\")\n",
    "                break"
   ]
  },
  {
   "cell_type": "code",
   "execution_count": 59,
   "metadata": {},
   "outputs": [
    {
     "name": "stdout",
     "output_type": "stream",
     "text": [
      "Not prime\n"
     ]
    }
   ],
   "source": [
    "prime(4)"
   ]
  },
  {
   "cell_type": "code",
   "execution_count": 60,
   "metadata": {},
   "outputs": [
    {
     "name": "stdout",
     "output_type": "stream",
     "text": [
      "*****\n"
     ]
    }
   ],
   "source": [
    "n = 5\n",
    "print(\"*\"*5)    "
   ]
  },
  {
   "cell_type": "code",
   "execution_count": 65,
   "metadata": {},
   "outputs": [
    {
     "name": "stdout",
     "output_type": "stream",
     "text": [
      "* * * * * \n",
      "* * * * * \n",
      "* * * * * \n",
      "* * * * * \n",
      "* * * * * \n"
     ]
    }
   ],
   "source": [
    "n = 5\n",
    "for i in range(n):\n",
    "    for i in range(n):\n",
    "        print(\"*\",end=\" \")\n",
    "    print()"
   ]
  },
  {
   "cell_type": "code",
   "execution_count": 67,
   "metadata": {},
   "outputs": [
    {
     "name": "stdout",
     "output_type": "stream",
     "text": [
      "* \n",
      "* * \n",
      "* * * \n",
      "* * * * \n",
      "* * * * * \n"
     ]
    }
   ],
   "source": [
    "n = 5 \n",
    "for i in range(n):\n",
    "    for i in range(i+1):\n",
    "        print('*',end=\" \")\n",
    "    print()"
   ]
  },
  {
   "cell_type": "code",
   "execution_count": 71,
   "metadata": {},
   "outputs": [
    {
     "name": "stdout",
     "output_type": "stream",
     "text": [
      "* * * * * \n",
      "* * * * \n",
      "* * * \n",
      "* * \n",
      "* \n"
     ]
    }
   ],
   "source": [
    "n = 5\n",
    "for i in range(n):\n",
    "    for i in range(i,n):\n",
    "        print('*',end=\" \")\n",
    "    print()"
   ]
  },
  {
   "cell_type": "code",
   "execution_count": 89,
   "metadata": {},
   "outputs": [
    {
     "name": "stdout",
     "output_type": "stream",
     "text": [
      "  * * * * * * * * * * \n",
      "    * * * * * * * * \n",
      "      * * * * * * \n",
      "        * * * * \n",
      "          * * \n"
     ]
    }
   ],
   "source": [
    "n = 5\n",
    "for i in range(n):\n",
    "    for j in range(i+1):\n",
    "        print(' ',end=\" \")\n",
    "    for j in range(i,n):\n",
    "        print('*',end=\" \")\n",
    "    for j in range(i,n):\n",
    "        print('*',end=\" \")\n",
    "    print()"
   ]
  },
  {
   "cell_type": "code",
   "execution_count": 96,
   "metadata": {},
   "outputs": [
    {
     "name": "stdout",
     "output_type": "stream",
     "text": [
      "  # # # # # # # # # \n",
      "    # # # # # # # \n",
      "      # # # # # \n",
      "        # # # \n",
      "          # \n"
     ]
    }
   ],
   "source": [
    "n = 5\n",
    "\n",
    "for i in range(n):\n",
    "    for j in range(i+1):\n",
    "        print(\" \",end=\" \")\n",
    "    for j in range(i,n):\n",
    "        print(\"#\",end=\" \")\n",
    "    for j in range(i+1,n):\n",
    "        print('#',end=\" \")\n",
    "    print()"
   ]
  },
  {
   "cell_type": "code",
   "execution_count": 115,
   "metadata": {},
   "outputs": [
    {
     "name": "stdout",
     "output_type": "stream",
     "text": [
      "            # \n",
      "          # # # \n",
      "        # # # # # \n",
      "      # # # # # # # \n",
      "    # # # # # # # # # \n",
      "  # # # # # # # # # # # \n"
     ]
    }
   ],
   "source": [
    "n = 6\n",
    "for i in range(n):\n",
    "    for j in range(i,n):\n",
    "        print(' ',end=\" \")\n",
    "    for j in range(i):\n",
    "        print('#',end=\" \")\n",
    "    for j in range(i+1):\n",
    "        print(\"#\",end=\" \")\n",
    "    print()"
   ]
  },
  {
   "cell_type": "code",
   "execution_count": 134,
   "metadata": {},
   "outputs": [
    {
     "name": "stdout",
     "output_type": "stream",
     "text": [
      "            # \n",
      "          # # # \n",
      "        # # # # # \n",
      "      # # # # # # # \n",
      "    # # # # # # # # # \n",
      "  # # # # # # # # # # # \n",
      "  # # # # # # # # # # # \n",
      "    # # # # # # # # # \n",
      "      # # # # # # # \n",
      "        # # # # # \n",
      "          # # # \n",
      "            # \n"
     ]
    }
   ],
   "source": [
    "n = 6\n",
    "for i in range(n):\n",
    "    for j in range(i,n):\n",
    "        print(' ',end=\" \")\n",
    "    for j in range(i):\n",
    "        print('#',end=\" \")\n",
    "    for j in range(i+1):\n",
    "        print(\"#\", end=\" \")\n",
    "    print()\n",
    "\n",
    "for i in range(n):\n",
    "    for j in range(i+1):\n",
    "        print(' ',end=\" \")\n",
    "    for j in range(i,n):\n",
    "        print(\"#\",end=\" \")\n",
    "    for i in range(i+1,n):\n",
    "        print(\"#\",end=\" \")\n",
    "    print()\n"
   ]
  },
  {
   "cell_type": "code",
   "execution_count": 135,
   "metadata": {},
   "outputs": [],
   "source": [
    "def is_prime(num):\n",
    "    if num == 1:\n",
    "        print(\"prime\")\n",
    "    if num>1:\n",
    "        for i in range(2,num):\n",
    "            if num%i ==0:\n",
    "                print(\"Not prime\")\n",
    "                break\n",
    "            else:\n",
    "                print(\"prime\")\n",
    "                \n",
    "\n"
   ]
  },
  {
   "cell_type": "code",
   "execution_count": 137,
   "metadata": {},
   "outputs": [
    {
     "name": "stdout",
     "output_type": "stream",
     "text": [
      "Not prime\n"
     ]
    }
   ],
   "source": [
    "is_prime(4)"
   ]
  },
  {
   "cell_type": "code",
   "execution_count": 150,
   "metadata": {},
   "outputs": [],
   "source": [
    "## febo \n",
    "def febo(n):\n",
    "    ans = []\n",
    "    f1,f2 = 0,1\n",
    "    ans.append(f1)\n",
    "\n",
    "    for i in range(n):\n",
    "        ans.append(f2)\n",
    "        next = f1+f2\n",
    "        f1=f2\n",
    "        f2=next\n",
    "    return ans"
   ]
  },
  {
   "cell_type": "code",
   "execution_count": 152,
   "metadata": {},
   "outputs": [
    {
     "data": {
      "text/plain": [
       "[0, 1, 1, 2, 3, 5, 8, 13]"
      ]
     },
     "execution_count": 152,
     "metadata": {},
     "output_type": "execute_result"
    }
   ],
   "source": [
    "febo(7)"
   ]
  },
  {
   "cell_type": "code",
   "execution_count": 161,
   "metadata": {},
   "outputs": [
    {
     "name": "stdout",
     "output_type": "stream",
     "text": [
      "malayalam and malayalam are same so it is palindrom\n"
     ]
    }
   ],
   "source": [
    "### plindrom \n",
    "name = input(\"enter str\")\n",
    "name2 = name.strip(\" \")\n",
    "\n",
    "name2 = name2[::-1]\n",
    "if name == name2:\n",
    "    print(f\"{name} and {name2} are same so it is palindrom\")\n",
    "\n",
    "else:\n",
    "    print(f\"{name} and {name2} does not match not pali\")"
   ]
  },
  {
   "cell_type": "markdown",
   "metadata": {},
   "source": [
    "## febo"
   ]
  },
  {
   "cell_type": "code",
   "execution_count": 162,
   "metadata": {},
   "outputs": [],
   "source": [
    "ser = []\n",
    "\n",
    "def fibo():\n",
    "    pre_num = 0\n",
    "    cur_num = 1\n",
    "\n",
    "    for i in range(n):\n",
    "        preprenum = pre_num\n",
    "        pre_num = cur_num\n",
    "        cur_num = pre_num + preprenum\n",
    "        ser.append(cur_num)\n"
   ]
  },
  {
   "cell_type": "code",
   "execution_count": 163,
   "metadata": {},
   "outputs": [
    {
     "data": {
      "text/plain": [
       "[0, 1, 1, 2, 3, 5]"
      ]
     },
     "execution_count": 163,
     "metadata": {},
     "output_type": "execute_result"
    }
   ],
   "source": [
    "febo(5)"
   ]
  },
  {
   "cell_type": "code",
   "execution_count": 6,
   "metadata": {},
   "outputs": [],
   "source": [
    "def is_pali(num):\n",
    "    k = num[::-1]\n",
    "    if k == num:\n",
    "        print(f\"{num} is {k} palindrom\")\n",
    "    else:\n",
    "        print(\"Not palindrom\")"
   ]
  },
  {
   "cell_type": "code",
   "execution_count": 9,
   "metadata": {},
   "outputs": [
    {
     "name": "stdout",
     "output_type": "stream",
     "text": [
      "mam is mam palindrom\n"
     ]
    }
   ],
   "source": [
    "is_pali('mam')"
   ]
  },
  {
   "cell_type": "code",
   "execution_count": null,
   "metadata": {},
   "outputs": [],
   "source": [
    "def febo(num):\n",
    "    "
   ]
  },
  {
   "cell_type": "code",
   "execution_count": 11,
   "metadata": {},
   "outputs": [
    {
     "name": "stdout",
     "output_type": "stream",
     "text": [
      "Hweolrllod\n"
     ]
    }
   ],
   "source": [
    "str1 = \"Hello\"\n",
    "str2 = \"world\"\n",
    "result = \"\"\n",
    "\n",
    "for i,j in zip(str1,str2):\n",
    "    result += i+j\n",
    "\n",
    "print(result)\n"
   ]
  },
  {
   "cell_type": "code",
   "execution_count": 1,
   "metadata": {},
   "outputs": [
    {
     "name": "stdout",
     "output_type": "stream",
     "text": [
      "3\n"
     ]
    }
   ],
   "source": [
    "a = 10\n",
    "b = 3\n",
    "\n",
    "c = a//b\n",
    "print(c)"
   ]
  }
 ],
 "metadata": {
  "kernelspec": {
   "display_name": "base",
   "language": "python",
   "name": "python3"
  },
  "language_info": {
   "codemirror_mode": {
    "name": "ipython",
    "version": 3
   },
   "file_extension": ".py",
   "mimetype": "text/x-python",
   "name": "python",
   "nbconvert_exporter": "python",
   "pygments_lexer": "ipython3",
   "version": "3.12.7"
  }
 },
 "nbformat": 4,
 "nbformat_minor": 2
}
