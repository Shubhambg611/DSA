{
 "cells": [
  {
   "cell_type": "code",
   "execution_count": 1,
   "metadata": {},
   "outputs": [
    {
     "name": "stdout",
     "output_type": "stream",
     "text": [
      "['s', 'k', 'e', 'e', 'G']\n",
      "['s', 'k', 'e', 'e', 'G']\n"
     ]
    }
   ],
   "source": [
    "### reverce array and string \n",
    "\n",
    "string = [\"G\",\"e\",\"e\",\"k\",\"s\"]\n",
    "\n",
    "#### slicing method \n",
    "\n",
    "k = string[::-1] #### reverse the string \n",
    "print(k)\n",
    "\n",
    "\n",
    "## also\n",
    "l = list(string)\n",
    "l.reverse()\n",
    "print(l)"
   ]
  },
  {
   "cell_type": "markdown",
   "metadata": {},
   "source": [
    "### find the sum of max and min element in an array\n",
    " "
   ]
  },
  {
   "cell_type": "code",
   "execution_count": 2,
   "metadata": {},
   "outputs": [
    {
     "name": "stdout",
     "output_type": "stream",
     "text": [
      "1\n"
     ]
    }
   ],
   "source": [
    "\n",
    "a = [-2,1,-4,5,3]\n",
    "\n",
    "max = max(a)\n",
    "min = min(a)\n",
    "sum = max+min\n",
    "print(sum)"
   ]
  },
  {
   "cell_type": "code",
   "execution_count": 7,
   "metadata": {},
   "outputs": [],
   "source": [
    "a = [-2,1,-4,5,3]          #time complexity O(n)\n",
    " \n",
    "def findsum(self,a,N):\n",
    "    if N == 1:\n",
    "        return a[0]\n",
    "\n",
    "    if a[0]>a[1]:\n",
    "        maxi = a[0]\n",
    "        mini = a[1]\n",
    "\n",
    "    else:\n",
    "        mini = a[0]\n",
    "        maxi = a[1]\n",
    "\n",
    "    for i in range(2,N):\n",
    "        if a[i]>maxi:\n",
    "            maxi = a[i]\n",
    "\n",
    "        elif maxi<a[i]:\n",
    "            mini = a[i]\n",
    "\n",
    "    print (maxi+mini)\n",
    "\n"
   ]
  },
  {
   "cell_type": "code",
   "execution_count": null,
   "metadata": {},
   "outputs": [],
   "source": [
    "## Kth smallest element \n",
    "N = 6\n"
   ]
  },
  {
   "cell_type": "code",
   "execution_count": 11,
   "metadata": {},
   "outputs": [
    {
     "name": "stdout",
     "output_type": "stream",
     "text": [
      "[4, 5, 6]\n",
      "[6, 5, 4]\n",
      "True\n"
     ]
    }
   ],
   "source": [
    "#### reverse the string and check if it is correct \n",
    "\n",
    "\n",
    "\n",
    "num = [4,5,6]\n",
    "print(num)\n",
    "\n",
    "k = num[::-1]\n",
    "\n",
    "print(k)\n",
    "\n",
    "if (num != k):\n",
    "    print(\"True\")\n",
    "else:\n",
    "    print(\"wronog ans\")"
   ]
  },
  {
   "cell_type": "code",
   "execution_count": 13,
   "metadata": {},
   "outputs": [
    {
     "name": "stdout",
     "output_type": "stream",
     "text": [
      "5 is odd\n"
     ]
    }
   ],
   "source": [
    "num = int(input(\"Enter the number\"))\n",
    "\n",
    "if num%2 == 0:\n",
    "    print(f\"{num} is even\")\n",
    "\n",
    "else:\n",
    "    print(f\"{num} is odd\")\n",
    "    \n"
   ]
  },
  {
   "cell_type": "markdown",
   "metadata": {},
   "source": [
    "# Check if the year is leap or not "
   ]
  },
  {
   "cell_type": "code",
   "execution_count": 27,
   "metadata": {},
   "outputs": [
    {
     "name": "stdout",
     "output_type": "stream",
     "text": [
      "2000 is leap year\n"
     ]
    }
   ],
   "source": [
    "### normal year 365 days and leap year have 366 days in year once in 4 years\n",
    "\n",
    "year = int(input(\"enter a year = \"))\n",
    "\n",
    "if year%400 ==0 and year%100 == 0:\n",
    "    print(f\"{year} is leap year\")\n",
    "elif year%4 == 0 and year%100 !=0:\n",
    "    print(f\"{year} is leap year\")\n",
    "else:\n",
    "    print(f\"{year} is not leap year\")\n"
   ]
  },
  {
   "cell_type": "markdown",
   "metadata": {},
   "source": [
    "# Write a program to find the euclidean distance between two coordinates."
   ]
  },
  {
   "cell_type": "code",
   "execution_count": 32,
   "metadata": {},
   "outputs": [
    {
     "name": "stdout",
     "output_type": "stream",
     "text": [
      "5.830951894845301\n"
     ]
    }
   ],
   "source": [
    "x1 = float(input(\"enter x1 coordinate\"))\n",
    "x2 = float(input(\"Enter x2 coordinate\"))\n",
    "y1 = float(input(\"enter y1 cooerdinate\"))\n",
    "y2 = float(input(\"enter y2 coordinate \"))\n",
    "\n",
    "ED = ((x2-x1)**2 + (y2-y1)**2)**0.5\n",
    "print(ED)"
   ]
  },
  {
   "cell_type": "code",
   "execution_count": 34,
   "metadata": {},
   "outputs": [
    {
     "name": "stdout",
     "output_type": "stream",
     "text": [
      "5.830951894845301\n"
     ]
    }
   ],
   "source": [
    "import numpy as np\n",
    "\n",
    "x1 = float(input(\"enter x1 coordinate\"))\n",
    "x2 = float(input(\"Enter x2 coordinate\"))\n",
    "y1 = float(input(\"enter y1 cooerdinate\"))\n",
    "y2 = float(input(\"enter y2 coordinate \"))\n",
    "\n",
    "ED = np.sqrt((x2-x1)**2 + (y2-y1)**2)\n",
    "print(ED)"
   ]
  },
  {
   "cell_type": "code",
   "execution_count": null,
   "metadata": {},
   "outputs": [],
   "source": []
  }
 ],
 "metadata": {
  "kernelspec": {
   "display_name": "base",
   "language": "python",
   "name": "python3"
  },
  "language_info": {
   "codemirror_mode": {
    "name": "ipython",
    "version": 3
   },
   "file_extension": ".py",
   "mimetype": "text/x-python",
   "name": "python",
   "nbconvert_exporter": "python",
   "pygments_lexer": "ipython3",
   "version": "3.12.7"
  }
 },
 "nbformat": 4,
 "nbformat_minor": 2
}
