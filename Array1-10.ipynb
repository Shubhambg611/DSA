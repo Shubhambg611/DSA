{
 "cells": [
  {
   "cell_type": "markdown",
   "metadata": {},
   "source": [
    "# Python Practice Problems\n",
    "\n",
    "1. User will input (3 ages). Find the oldest one.\n",
    "2. Write a program that will convert Celsius value to Fahrenheit.\n",
    "3. User will input (2 numbers). Write a program to swap the numbers.\n",
    "4. Write a program that will give you the sum of 3 digits.\n",
    "5. Write a program that will reverse a four-digit number. Also, check whether the reverse is true.\n",
    "6. Write a program that will tell whether the number entered by the user is odd or even.\n",
    "7. Write a program to tell whether the given year is a leap year.\n",
    "8. Write a program to find the Euclidean distance between two coordinates.\n",
    "9. Write a program that takes user input of three angles and will find out whether it can form a triangle or not.\n",
    "10. Write a program that will take user input of cost price and selling price and determines whether it's a loss or a profit.\n",
    "11. Write a program to find the simple interest when the value of principal, rate of interest, and time period is given.\n",
    "12. Write a program to find the volume of the cylinder. Also, find the cost when the cost of 1 litre of milk is 40 Rs.\n",
    "13. Write a program that will tell whether the given number is divisible by 3 & 6.\n",
    "14. Write a program that will determine the weather when the value of temperature and humidity is provided by the user.\n",
    "    - **Conditions**:\n",
    "        - Temperature (C) >= 30 and Humidity (%) >= 90: Hot and Humid\n",
    "        - Temperature (C) >= 30 and Humidity (%) < 90: Hot\n",
    "        - Temperature (C) < 30 and Humidity (%) >= 90: Cool and Humid\n",
    "        - Temperature (C) < 30 and Humidity (%) < 90: Cool\n",
    "15. Write a program that will take three digits from the user and add the square of each digit.\n",
    "16. Write a program that will check whether the number is an Armstrong number or not.\n",
    "17. Write a program that will take user input of a (4-digit number) and check whether the number is a narcissistic number or not.\n",
    "18. Write a program that will give you the in-hand salary after deduction of HRA (10%), DA (5%), PF (3%), and tax (if salary is between 5-10 lakh – 10%, 11-20 lakh – 20%, 20 lakh < – 30%, 0-1 lakh print k).\n",
    "19. Write a menu-driven program:\n",
    "    - 1. cm to ft\n",
    "    - 2. kl to miles\n",
    "    - 3. usd to inr\n",
    "    - 4. exit\n",
    "20. Write a program that will tell the number of dogs and chickens when the user provides the value of total heads and legs.\n",
    "21. Write a program to swap numbers.\n",
    "22. Write a program to find the sum of the first n numbers, where n will be provided by the user. (e.g., if the user provides n=10, the output should be 55).\n",
    "23. Write a program that can multiply 2 numbers provided by the user without using the * operator.\n",
    "24. Write a program that can find the factorial of a given number provided by the user.\n",
    "25. Write a program to print the first 25 odd numbers.\n",
    "26. Write a program to print whether a given number is a prime number or not.\n",
    "27. Print all the Armstrong numbers in the range of 100 to 1000.\n",
    "28. The current population of a town is 10,000. The population of the town is increasing at the rate of 10% per year. Write a program to find out the population at the end of each of the last 10 years. \n",
    "    - (e.g., current population is 10,000, so the output should be like this):\n",
    "        - 10th year - 10000\n",
    "        - 9th year - 9000\n",
    "        - 8th year - 8100, and so on.\n",
    "29. Write a program to print all the unique combinations of 1, 2, 3, and 4.\n",
    "30. User will provide 2 numbers; you have to find the HCF of those 2 numbers.\n",
    "31. User will provide 2 numbers; you have to find the LCM of those 2 numbers.\n",
    "32. Print the first 25 prime numbers.\n",
    "33. Print the first 20 numbers of a Fibonacci series.\n",
    "34. Write a program to find the compound interest.\n",
    "35. Write a Python program that accepts an integer (n) and computes the value of n + nn + nnn.\n",
    "36. Take a number from the user and find the number\n",
    "Sure! Here’s the continuation of the list:\n",
    "\n",
    "```markdown\n",
    "36. Take a number from the user and find the number of digits in it.\n",
    "37. Print all factors of a given number provided by the user.\n",
    "38. Find the reverse of a number provided by the user (any number of digits).\n",
    "39. Write a program to print the following pattern:\n",
    "    ```\n",
    "    *\n",
    "    **\n",
    "    ***\n",
    "    ****\n",
    "    *****\n",
    "    ```\n",
    "40. Write a program to print the following pattern:\n",
    "    ```\n",
    "    *\n",
    "    **\n",
    "    ***\n",
    "    **\n",
    "    *\n",
    "    ```\n",
    "41. Write a program to print the following pattern:\n",
    "    ```\n",
    "            *\n",
    "          * * *\n",
    "        * * * * *\n",
    "      * * * * * * *\n",
    "    * * * * * * * * *\n",
    "    ```\n",
    "42. Write a program to print the following pattern:\n",
    "    ```\n",
    "    1\n",
    "    1 2 1\n",
    "    1 2 3 2 1\n",
    "    1 2 3 4 3 2 1\n",
    "    1 2 3 4 5 4 3 2 1\n",
    "    ```\n",
    "43. Write a program to print the following pattern:\n",
    "    ```\n",
    "    1\n",
    "    2 3\n",
    "    4 5 6\n",
    "    7 8 9 10\n",
    "    ```\n",
    "44. Write a program to calculate the sum of the following series till the nth term:\n",
    "    ```\n",
    "    1/1! + 2/2! + 3/3! + 4/4! +…….+ n/n!\n",
    "    ```\n",
    "    - n will be provided by the user.\n",
    "45. Write a Python Program to find the sum of the series till the nth term: \n",
    "    ```\n",
    "    1 + x^2/2 + x^3/3 + … + x^n/n\n",
    "    ```\n",
    "    - n will be provided by the user.\n",
    "46. The natural logarithm can be approximated by the following series. If x is input through the keyboard, write a program to calculate the sum of the first seven terms of this series.\n",
    "47. Write a program that keeps on accepting a number from the user until the user enters zero. Display the sum and average of all the numbers.\n",
    "48. Write a program that accepts 2 numbers from the user: a numerator and a denominator, and then simplifies it.\n",
    "    - (e.g., if the num = 5, den = 15, the answer should be ⅓; if num = 6, den = 9, the answer should be ⅔).\n",
    "49. Find the length of a given string without using the len() function.\n",
    "50. Extract the username from a given email.\n",
    "    - (e.g., if the email is nitish24singh@gmail.com, then the username should be nitish24singh).\n",
    "51. Count the frequency of a particular character in a provided string.\n",
    "    - (e.g., 'hello how are you' is the string; the frequency of h in this string is 2).\n",
    "52. Find the index position of a particular character in another string.\n",
    "53. Count the number of vowels in a string provided by the user.\n",
    "54. Write a program that can remove a particular character from a string.\n",
    "55. Write a program that can check whether a given string is a palindrome or not.\n",
    "56. Write a Python program to remove all duplicates from a list.\n",
    "57. Write a Python program to convert a string to title case without using the title() method.\n",
    "58. Write a Python program to find the max item from a list without using the max function.\n",
    "59. Write a Python program to reverse a list.\n",
    "60. Write a Python program to search for a given number in a list.\n",
    "61. Write a program that can create a new list from a given list where each item in the new list is the square of the item in the old list.\n",
    "62. Write a program that can reverse words of a given string.\n",
    "    - (e.g., if the input is \"Hello how are you\", the output should be \"you are how Hello\").\n",
    "63. Write a program that can count the number of words in a given string.\n",
    "64. Write a program to check if a list is in ascending order or not.\n",
    "65. Create 2 lists from a given list where the 1st list will contain all the odd numbers from the original list and the 2nd one will contain all the even numbers.\n",
    "66. Write a program to merge 2 lists without using the + operator.\n",
    "67. Write a program to replace an item with a different item if found in the list.\n",
    "68. Write a program that can convert a 2D list to a 1D list.\n",
    "69. Write a program that can print the max item of each row of a matrix.\n",
    "70. Write a program that can convert an integer to a string.\n",
    "71. Write a program to print the shape of a matrix.\n",
    "72. Write a program that can check if you can perform matrix multiplication on 2 matrices.\n",
    "73. Write a program to perform matrix multiplication on 2 matrices.\n",
    "74. Write a program that can sort a given unsorted list without using any built-in function for sorting.\n",
    "75. Write a program that can find the most used word in a Bollywood song.\n",
    "76. Assume a list with numbers from 1 to 10 and then convert it into a dictionary where the key would be the numbers of the list and the values would be the square of those numbers.\n",
    "77. Write a program to merge two given dictionaries.\n",
    "78. Write a program to swap the key-value pair for max and min values.\n",
    "    - (e.g., if the dict is like this {‘a’:1, ‘b’:2, ‘c’:3}, output should be {‘a’: 3, ‘b’: 2, ‘c’: 1}).\n",
    "79. Write a program to find the histogram of a given set of numbers. Take bin size from the user. Print the result in the form of a dictionary.\n",
    "80. Write a function that accepts a string and returns the number of upper case chars and lower case chars as a dictionary.\n",
    "81. Write a function that accepts a list of strings and performs Bag of Words and converts it to numerical vectors.\n",
    "    - [Bag of Words Model](https://en.wikipedia.org/wiki/Bag-of-words_model).\n",
    "82. Write a dummy program that can perform login and registration using a menu-driven program.\n",
    "83. Write a program that accepts neighbors (set of 2D coordinates) and a point (single 2D coordinate) and tells the nearest neighbor (in terms of Euclidean distance).\n",
    "84. Write a function that accepts a number and returns its factorial. You cannot use any loop.\n",
    "```\n"
   ]
  },
  {
   "cell_type": "code",
   "execution_count": 1,
   "metadata": {},
   "outputs": [
    {
     "name": "stdout",
     "output_type": "stream",
     "text": [
      "['s', 'k', 'e', 'e', 'G']\n",
      "['s', 'k', 'e', 'e', 'G']\n"
     ]
    }
   ],
   "source": [
    "### reverce array and string \n",
    "\n",
    "string = [\"G\",\"e\",\"e\",\"k\",\"s\"]\n",
    "\n",
    "#### slicing method \n",
    "\n",
    "k = string[::-1] #### reverse the string \n",
    "print(k)\n",
    "\n",
    "\n",
    "## also\n",
    "l = list(string)\n",
    "l.reverse()\n",
    "print(l)"
   ]
  },
  {
   "cell_type": "markdown",
   "metadata": {},
   "source": [
    "### find the sum of max and min element in an array\n",
    " "
   ]
  },
  {
   "cell_type": "code",
   "execution_count": 2,
   "metadata": {},
   "outputs": [
    {
     "name": "stdout",
     "output_type": "stream",
     "text": [
      "1\n"
     ]
    }
   ],
   "source": [
    "\n",
    "a = [-2,1,-4,5,3]\n",
    "\n",
    "max = max(a)\n",
    "min = min(a)\n",
    "sum = max+min\n",
    "print(sum)"
   ]
  },
  {
   "cell_type": "code",
   "execution_count": 7,
   "metadata": {},
   "outputs": [],
   "source": [
    "a = [-2,1,-4,5,3]          #time complexity O(n)\n",
    " \n",
    "def findsum(self,a,N):\n",
    "    if N == 1:\n",
    "        return a[0]\n",
    "\n",
    "    if a[0]>a[1]:\n",
    "        maxi = a[0]\n",
    "        mini = a[1]\n",
    "\n",
    "    else:\n",
    "        mini = a[0]\n",
    "        maxi = a[1]\n",
    "\n",
    "    for i in range(2,N):\n",
    "        if a[i]>maxi:\n",
    "            maxi = a[i]\n",
    "\n",
    "        elif maxi<a[i]:\n",
    "            mini = a[i]\n",
    "\n",
    "    print (maxi+mini)\n",
    "\n"
   ]
  },
  {
   "cell_type": "code",
   "execution_count": null,
   "metadata": {},
   "outputs": [],
   "source": [
    "## Kth smallest element \n",
    "N = 6\n"
   ]
  },
  {
   "cell_type": "code",
   "execution_count": 11,
   "metadata": {},
   "outputs": [
    {
     "name": "stdout",
     "output_type": "stream",
     "text": [
      "[4, 5, 6]\n",
      "[6, 5, 4]\n",
      "True\n"
     ]
    }
   ],
   "source": [
    "#### reverse the string and check if it is correct \n",
    "\n",
    "\n",
    "\n",
    "num = [4,5,6]\n",
    "print(num)\n",
    "\n",
    "k = num[::-1]\n",
    "\n",
    "print(k)\n",
    "\n",
    "if (num != k):\n",
    "    print(\"True\")\n",
    "else:\n",
    "    print(\"wronog ans\")"
   ]
  },
  {
   "cell_type": "code",
   "execution_count": 13,
   "metadata": {},
   "outputs": [
    {
     "name": "stdout",
     "output_type": "stream",
     "text": [
      "5 is odd\n"
     ]
    }
   ],
   "source": [
    "num = int(input(\"Enter the number\"))\n",
    "\n",
    "if num%2 == 0:\n",
    "    print(f\"{num} is even\")\n",
    "\n",
    "else:\n",
    "    print(f\"{num} is odd\")\n",
    "    \n"
   ]
  },
  {
   "cell_type": "markdown",
   "metadata": {},
   "source": [
    "# Check if the year is leap or not "
   ]
  },
  {
   "cell_type": "code",
   "execution_count": 27,
   "metadata": {},
   "outputs": [
    {
     "name": "stdout",
     "output_type": "stream",
     "text": [
      "2000 is leap year\n"
     ]
    }
   ],
   "source": [
    "### normal year 365 days and leap year have 366 days in year once in 4 years\n",
    "\n",
    "year = int(input(\"enter a year = \"))\n",
    "\n",
    "if year%400 ==0 and year%100 == 0:\n",
    "    print(f\"{year} is leap year\")\n",
    "elif year%4 == 0 and year%100 !=0:\n",
    "    print(f\"{year} is leap year\")\n",
    "else:\n",
    "    print(f\"{year} is not leap year\")\n"
   ]
  },
  {
   "cell_type": "markdown",
   "metadata": {},
   "source": [
    "# Write a program to find the euclidean distance between two coordinates."
   ]
  },
  {
   "cell_type": "code",
   "execution_count": 32,
   "metadata": {},
   "outputs": [
    {
     "name": "stdout",
     "output_type": "stream",
     "text": [
      "5.830951894845301\n"
     ]
    }
   ],
   "source": [
    "x1 = float(input(\"enter x1 coordinate\"))\n",
    "x2 = float(input(\"Enter x2 coordinate\"))\n",
    "y1 = float(input(\"enter y1 cooerdinate\"))\n",
    "y2 = float(input(\"enter y2 coordinate \"))\n",
    "\n",
    "ED = ((x2-x1)**2 + (y2-y1)**2)**0.5\n",
    "print(ED)"
   ]
  },
  {
   "cell_type": "code",
   "execution_count": 34,
   "metadata": {},
   "outputs": [
    {
     "name": "stdout",
     "output_type": "stream",
     "text": [
      "5.830951894845301\n"
     ]
    }
   ],
   "source": [
    "import numpy as np\n",
    "\n",
    "x1 = float(input(\"enter x1 coordinate\"))\n",
    "x2 = float(input(\"Enter x2 coordinate\"))\n",
    "y1 = float(input(\"enter y1 cooerdinate\"))\n",
    "y2 = float(input(\"enter y2 coordinate \"))\n",
    "\n",
    "ED = np.sqrt((x2-x1)**2 + (y2-y1)**2)\n",
    "print(ED)"
   ]
  },
  {
   "cell_type": "code",
   "execution_count": 6,
   "metadata": {},
   "outputs": [
    {
     "name": "stdout",
     "output_type": "stream",
     "text": [
      "(68, 29, 83) can form a triangle \n"
     ]
    }
   ],
   "source": [
    "a1 = int(input(\"enter angle one \"))\n",
    "a2 = int(input(\"angle 2\"))\n",
    "a3 = int(input(\"angle 3\"))\n",
    "\n",
    "tri = a1+a2+a3\n",
    "\n",
    "if tri == 180:\n",
    "    print(f\"{a1,a2,a3} can form a triangle \")\n",
    "\n",
    "else:\n",
    "    print(\"triangle not possible\")"
   ]
  },
  {
   "cell_type": "code",
   "execution_count": 10,
   "metadata": {},
   "outputs": [
    {
     "name": "stdout",
     "output_type": "stream",
     "text": [
      "48500 rs profit is made\n"
     ]
    }
   ],
   "source": [
    "cost = int(input(\"enter a cost price\"))\n",
    "sell = int(input(\"enter a sell price\"))\n",
    "\n",
    "if cost>sell:\n",
    "    print(f\"{cost} cost is higher than {sell} selling price so it is loss of {cost-sell} rs\")\n",
    "\n",
    "else:\n",
    "    print(f\"{sell-cost} rs profit is made\")"
   ]
  },
  {
   "cell_type": "code",
   "execution_count": 16,
   "metadata": {},
   "outputs": [
    {
     "name": "stdout",
     "output_type": "stream",
     "text": [
      "simple intrest of (100000, 6.0, 60) is 30000.0\n"
     ]
    }
   ],
   "source": [
    "### simple intrest \n",
    "\n",
    "principle_amount = int(input(\"Enter a amount : \"))\n",
    "rate_of_intrest = float(input(\"Enter a rate of intrest: \"))\n",
    "time_period = int(input(\"enter a time period of loan\"))\n",
    "\n",
    "simple_intrest = (principle_amount*rate_of_intrest*time_period)/(12*100)\n",
    "\n",
    "print(f\"simple intrest of {principle_amount,rate_of_intrest,time_period} is {simple_intrest}\")"
   ]
  },
  {
   "cell_type": "code",
   "execution_count": 23,
   "metadata": {},
   "outputs": [
    {
     "name": "stdout",
     "output_type": "stream",
     "text": [
      "for filling 6283.19 volume cylender 6.28 liter milk will be needed and it will take 251.33 rs to fill it full\n"
     ]
    }
   ],
   "source": [
    "### volume of cylender\n",
    "import math\n",
    "\n",
    "r = float(input(\"radius\"))\n",
    "h = float(input(\"height\"))\n",
    "\n",
    "volume = (math.pi*(r**2)*h)\n",
    "volume_lit = volume/1000\n",
    "\n",
    "milk = volume_lit*40\n",
    "\n",
    "print(f\"for filling {volume:.2f} volume cylender {volume_lit:.2f} liter milk will be needed and it will take {milk:.2f} rs to fill it full\")\n"
   ]
  },
  {
   "cell_type": "code",
   "execution_count": 31,
   "metadata": {},
   "outputs": [],
   "source": [
    "## check if number is divisible form 3 and 6\n",
    "\n",
    "def is_div(num):\n",
    "\n",
    "    if num%3 ==0 and num%6 ==0:\n",
    "        print(\"number is divisible from both 3 and 6\")\n",
    "\n",
    "    elif num%3 ==0 and num%6 !=0:\n",
    "        print(f\"{num} is divisible from 3 but not from 6\")\n",
    "    \n",
    "    else:\n",
    "        print(f\"{num} is not divisible from 3 and 6\")"
   ]
  },
  {
   "cell_type": "code",
   "execution_count": 32,
   "metadata": {},
   "outputs": [
    {
     "name": "stdout",
     "output_type": "stream",
     "text": [
      "25 is not divisible from 3 and 6\n"
     ]
    }
   ],
   "source": [
    "is_div(25)"
   ]
  },
  {
   "cell_type": "code",
   "execution_count": 4,
   "metadata": {},
   "outputs": [
    {
     "name": "stdout",
     "output_type": "stream",
     "text": [
      "cool\n"
     ]
    }
   ],
   "source": [
    "def weather(temp,hum):\n",
    "    \n",
    "    if temp>=30 and hum >=90:\n",
    "        print(\"hot and humid\")\n",
    "\n",
    "    elif temp >= 30 and hum <90:\n",
    "        print(\"Hot\")\n",
    "\n",
    "    elif temp<30 and hum >=90 :\n",
    "        print (\"cold and humid\")\n",
    "\n",
    "    elif temp <30 and hum <90:\n",
    "        print(\"cool\")\n",
    "\n",
    "\n",
    "weather(25,12)\n",
    "\n",
    "    "
   ]
  },
  {
   "cell_type": "code",
   "execution_count": 5,
   "metadata": {},
   "outputs": [
    {
     "name": "stdout",
     "output_type": "stream",
     "text": [
      "30\n"
     ]
    }
   ],
   "source": [
    "d1 = int(input(\"digit1\"))\n",
    "d2 = int(input(\"digit2\"))\n",
    "d3 = int(input(\"digit3\"))\n",
    "\n",
    "sum = d1**2 + d2**2 + d3**2\n",
    "\n",
    "print(sum)"
   ]
  },
  {
   "cell_type": "code",
   "execution_count": 25,
   "metadata": {},
   "outputs": [
    {
     "data": {
      "text/plain": [
       "False"
      ]
     },
     "execution_count": 25,
     "metadata": {},
     "output_type": "execute_result"
    }
   ],
   "source": [
    "def is_am_strog(num):\n",
    "    nums = str(num)\n",
    "    nums_digits = len(nums)\n",
    "    sum_of_powers = sum(int(nums)** nums_digits for num in nums)\n",
    "\n",
    "    return sum_of_powers == num\n",
    "\n",
    "    if sum_of_powers == num:\n",
    "        print(f\"{num}is_am_strog\")\n",
    "    else:\n",
    "        print(\"not amstrong\")\n",
    "\n",
    "is_am_strog(3998)"
   ]
  },
  {
   "cell_type": "markdown",
   "metadata": {},
   "source": [
    "## angle between H hand and m hand in clock"
   ]
  },
  {
   "cell_type": "code",
   "execution_count": 21,
   "metadata": {},
   "outputs": [
    {
     "name": "stdout",
     "output_type": "stream",
     "text": [
      "angle between 12 : 30 hand is 165 degree\n"
     ]
    }
   ],
   "source": [
    "class sol:\n",
    "    def get_angle(self,H,M):\n",
    "        h_angle = (H+M/60)*30\n",
    "        m_angle = (M*6)\n",
    "        angle = abs(m_angle-h_angle)\n",
    "        angle = min(angle,360-angle)\n",
    "        angle = int(angle)\n",
    "        print(f\"angle between {H} : {M} hand is {angle} degree\")\n",
    "sol_instance = sol()\n",
    "sol_instance.get_angle(12, 30)"
   ]
  },
  {
   "cell_type": "markdown",
   "metadata": {},
   "source": [
    "## amstrong number \n"
   ]
  },
  {
   "cell_type": "code",
   "execution_count": 49,
   "metadata": {},
   "outputs": [],
   "source": [
    "def is_amstrog(num):\n",
    "    num_str = str(num)\n",
    "    len_num = len(num_str)\n",
    "    sum_of_numsqr = sum(int(num)**len_num for num in num_str)\n",
    "\n",
    "    if num == sum_of_numsqr:\n",
    "        print(f\"{num} is amstrong number\")\n",
    "\n",
    "    else:\n",
    "        print(f\"{num} is not amstrong number\")\n",
    "\n"
   ]
  },
  {
   "cell_type": "code",
   "execution_count": 50,
   "metadata": {},
   "outputs": [
    {
     "name": "stdout",
     "output_type": "stream",
     "text": [
      "153 is amstrong number\n"
     ]
    }
   ],
   "source": [
    "is_amstrog(153)"
   ]
  },
  {
   "cell_type": "code",
   "execution_count": 98,
   "metadata": {},
   "outputs": [],
   "source": [
    "def in_hand(rs):\n",
    "    total = (rs*10/100) + (rs*5/100) + (rs*3/100)\n",
    "\n",
    "    rs2 = rs - total\n",
    "\n",
    "\n",
    "    tax = 0\n",
    "    if 500000 <= rs2 <1000000:\n",
    "        tax = (rs2/10)*100\n",
    "\n",
    "    elif 1100000<= rs2 < 2000000:\n",
    "        tax = (rs2/20)*100\n",
    "\n",
    "    elif rs2 > 2000000:\n",
    "        tax = (rs2/30)*100\n",
    "\n",
    "    inhand = rs - (tax+total)\n",
    "\n",
    "    print(f\"In hand salary of {rs} LPA is {abs(inhand):.5f} LPA and {inhand/12} per month\")       "
   ]
  },
  {
   "cell_type": "code",
   "execution_count": 99,
   "metadata": {},
   "outputs": [
    {
     "name": "stdout",
     "output_type": "stream",
     "text": [
      "In hand salary of 1200000 LPA is 8856000.00000 LPA and -738000.0 per month\n"
     ]
    }
   ],
   "source": [
    "in_hand(1200000)"
   ]
  },
  {
   "cell_type": "markdown",
   "metadata": {},
   "source": [
    "### Conversion "
   ]
  },
  {
   "cell_type": "code",
   "execution_count": 110,
   "metadata": {},
   "outputs": [
    {
     "name": "stdout",
     "output_type": "stream",
     "text": [
      "1 usd is 82 inr\n"
     ]
    }
   ],
   "source": [
    "case_selector = int(input(\"for cm to ft press 1 \\n for km to mile press 2 \\n for usd to inr press 3 \"))\n",
    "\n",
    "match case_selector:\n",
    "    case 1:\n",
    "        cm = int(input(\"enter cm = \"))\n",
    "        feet = cm * 0.0328084\n",
    "        print(f\"{cm} cm is {feet} feet\")\n",
    "\n",
    "    case 2:\n",
    "        km = int(input(\"enter km = \"))\n",
    "        miles = km * 0.621371\n",
    "        print(f\"{km} km is {miles} miles\")\n",
    "\n",
    "    case 3:\n",
    "        usd = int(input(\"enter usd = \"))\n",
    "        inr = usd * 82\n",
    "        print(f\"{usd} usd is {inr} inr\")\n",
    "\n",
    "    \n",
    "\n",
    "\n",
    "\n",
    "\n",
    "\n",
    "\n",
    "\n"
   ]
  },
  {
   "cell_type": "code",
   "execution_count": 2,
   "metadata": {},
   "outputs": [
    {
     "name": "stdout",
     "output_type": "stream",
     "text": [
      "20 15\n"
     ]
    }
   ],
   "source": [
    "a = 15\n",
    "b = 20\n",
    "\n",
    "a , b = b , a\n",
    "\n",
    "print(a,b)"
   ]
  },
  {
   "cell_type": "code",
   "execution_count": 7,
   "metadata": {},
   "outputs": [
    {
     "name": "stdout",
     "output_type": "stream",
     "text": [
      "0\n",
      "1\n",
      "3\n",
      "6\n",
      "10\n",
      "15\n",
      "21\n",
      "28\n",
      "36\n",
      "45\n",
      "55\n"
     ]
    }
   ],
   "source": [
    "num = int(input(\"enter a number\"))\n",
    "\n",
    "total = 0\n",
    "\n",
    "for i in range(0,num):\n",
    "    total += i\n",
    "    print(total)"
   ]
  },
  {
   "cell_type": "markdown",
   "metadata": {},
   "source": [
    "# Multiplying without using * "
   ]
  },
  {
   "cell_type": "code",
   "execution_count": 11,
   "metadata": {},
   "outputs": [
    {
     "name": "stdout",
     "output_type": "stream",
     "text": [
      "66\n"
     ]
    }
   ],
   "source": [
    "def multiply (n):\n",
    "    if n == 0:\n",
    "        return 0\n",
    "    else:\n",
    "        return n + multiply(n-1)\n",
    "\n",
    "x = int(input(\"enter a number\"))\n",
    "result = multiply(x)\n",
    "print(result)"
   ]
  },
  {
   "cell_type": "markdown",
   "metadata": {},
   "source": [
    "# Divide without using /"
   ]
  },
  {
   "cell_type": "code",
   "execution_count": 22,
   "metadata": {},
   "outputs": [
    {
     "name": "stdout",
     "output_type": "stream",
     "text": [
      "1\n",
      "2\n",
      "3\n",
      "4\n",
      "5\n",
      "6\n",
      "7\n",
      "8\n",
      "9\n",
      "10\n",
      "11\n",
      "12\n",
      "13\n",
      "14\n",
      "15\n",
      "16\n",
      "17\n",
      "18\n",
      "19\n",
      "20\n",
      "21\n",
      "22\n",
      "23\n",
      "24\n",
      "25\n",
      "26\n",
      "27\n",
      "28\n",
      "29\n",
      "30\n",
      "31\n",
      "32\n",
      "33\n",
      "34\n",
      "35\n",
      "36\n",
      "37\n",
      "38\n",
      "39\n",
      "40\n",
      "41\n",
      "42\n",
      "43\n",
      "44\n",
      "45\n",
      "46\n",
      "47\n",
      "48\n",
      "49\n",
      "50\n"
     ]
    }
   ],
   "source": [
    "divident = int(input(\"enter a divident\"))\n",
    "diviser = int(input(\"enter a diviser\"))\n",
    "\n",
    "sum = 0 \n",
    "count = 0\n",
    "\n",
    "while (sum + diviser <= divident):\n",
    "    count += 1\n",
    "    sum += diviser\n",
    "\n",
    "    print(count)"
   ]
  },
  {
   "cell_type": "code",
   "execution_count": 23,
   "metadata": {},
   "outputs": [
    {
     "name": "stdout",
     "output_type": "stream",
     "text": [
      "1\n",
      "3\n",
      "5\n",
      "7\n",
      "9\n",
      "11\n",
      "13\n",
      "15\n",
      "17\n",
      "19\n",
      "21\n",
      "23\n",
      "25\n"
     ]
    }
   ],
   "source": [
    "def odd(num):\n",
    "    for i in range(1,num+1):\n",
    "        if i%2 != 0:\n",
    "            print(i)\n",
    "\n",
    "(odd(25)"
   ]
  },
  {
   "cell_type": "markdown",
   "metadata": {},
   "source": [
    "### Prime or not"
   ]
  },
  {
   "cell_type": "code",
   "execution_count": 53,
   "metadata": {},
   "outputs": [],
   "source": [
    "def prime(num):\n",
    "    if num == 1:\n",
    "         print(\"not prime\")\n",
    "\n",
    "    \n",
    "    if num > 1:\n",
    "        for i in range(2,num):\n",
    "            if num%i == 0:\n",
    "                print(\"not prime\")\n",
    "                break\n",
    "        else:\n",
    "                print(\"prime\")"
   ]
  },
  {
   "cell_type": "code",
   "execution_count": 52,
   "metadata": {},
   "outputs": [
    {
     "name": "stdout",
     "output_type": "stream",
     "text": [
      "prime\n"
     ]
    }
   ],
   "source": [
    "prime(17)"
   ]
  },
  {
   "cell_type": "markdown",
   "metadata": {},
   "source": [
    "# Pattern Problem"
   ]
  },
  {
   "attachments": {
    "image.png": {
     "image/png": "[encoded data removed]"
    }
   },
   "cell_type": "markdown",
   "metadata": {},
   "source": [
    "![image.png](attachment:image.png)"
   ]
  },
  {
   "cell_type": "code",
   "execution_count": 54,
   "metadata": {},
   "outputs": [
    {
     "name": "stdout",
     "output_type": "stream",
     "text": [
      "*****\n"
     ]
    }
   ],
   "source": [
    "n = 5\n",
    "print(\"*\"*n)"
   ]
  },
  {
   "cell_type": "code",
   "execution_count": 65,
   "metadata": {},
   "outputs": [
    {
     "name": "stdout",
     "output_type": "stream",
     "text": [
      "*  *  *  *  *  \n",
      "*  *  *  *  *  \n",
      "*  *  *  *  *  \n",
      "*  *  *  *  *  \n",
      "*  *  *  *  *  \n"
     ]
    }
   ],
   "source": [
    "n = 5 \n",
    "for i in range(n):\n",
    "    for i in range(n):\n",
    "        print('*',end=\"  \")\n",
    "    print()"
   ]
  },
  {
   "cell_type": "markdown",
   "metadata": {},
   "source": [
    "## increaing triangle"
   ]
  },
  {
   "cell_type": "code",
   "execution_count": 69,
   "metadata": {},
   "outputs": [
    {
     "name": "stdout",
     "output_type": "stream",
     "text": [
      "* \n",
      "* * \n",
      "* * * \n",
      "* * * * \n",
      "* * * * * \n"
     ]
    }
   ],
   "source": [
    "n = 5\n",
    "for i in range(n):\n",
    "    for i in range(i+1):\n",
    "        print('*',end=\" \")\n",
    "\n",
    "    print()"
   ]
  },
  {
   "cell_type": "code",
   "execution_count": 76,
   "metadata": {},
   "outputs": [
    {
     "name": "stdout",
     "output_type": "stream",
     "text": [
      "* \n",
      "* * \n",
      "* * * \n",
      "* * * * \n",
      "* * * * * \n"
     ]
    }
   ],
   "source": [
    "n = 5\n",
    "for i in range(n):\n",
    "    for i in range (i+1):\n",
    "        print('*',end=\" \")\n",
    "    print()"
   ]
  },
  {
   "cell_type": "code",
   "execution_count": 78,
   "metadata": {},
   "outputs": [
    {
     "name": "stdout",
     "output_type": "stream",
     "text": [
      "* * * * * \n",
      "* * * * \n",
      "* * * \n",
      "* * \n",
      "* \n"
     ]
    }
   ],
   "source": [
    "n = 5\n",
    "for i in range (n):\n",
    "    for i in range(i,n):\n",
    "        print('*',end=\" \")\n",
    "\n",
    "    print()\n"
   ]
  },
  {
   "cell_type": "code",
   "execution_count": 79,
   "metadata": {},
   "outputs": [
    {
     "name": "stdout",
     "output_type": "stream",
     "text": [
      "* \n",
      "* * \n",
      "* * * \n",
      "* * * * \n",
      "* * * * * \n"
     ]
    }
   ],
   "source": [
    "n = 5\n",
    "for i in range (n):\n",
    "    for i in range(i+1):\n",
    "        print('*',end=\" \")\n",
    "    print()"
   ]
  },
  {
   "cell_type": "code",
   "execution_count": 80,
   "metadata": {},
   "outputs": [
    {
     "name": "stdout",
     "output_type": "stream",
     "text": [
      "* * * * * \n",
      "* * * * \n",
      "* * * \n",
      "* * \n",
      "* \n"
     ]
    }
   ],
   "source": [
    "for i in range(n):\n",
    "    for i in range(i,n):\n",
    "        print('*',end = ' ')\n",
    "\n",
    "    print()"
   ]
  },
  {
   "cell_type": "code",
   "execution_count": 96,
   "metadata": {},
   "outputs": [
    {
     "name": "stdout",
     "output_type": "stream",
     "text": [
      "          * \n",
      "        * * \n",
      "      * * * \n",
      "    * * * * \n",
      "  * * * * * \n"
     ]
    }
   ],
   "source": [
    "n = 5\n",
    "for i in range(n):\n",
    "    for j in range(i,n):\n",
    "        print(' ',end=' ')\n",
    "\n",
    "    for j in range(i+1):\n",
    "        print('*',end=' ')\n",
    "    print()"
   ]
  },
  {
   "cell_type": "code",
   "execution_count": 97,
   "metadata": {},
   "outputs": [
    {
     "name": "stdout",
     "output_type": "stream",
     "text": [
      "  * * * * * \n",
      "    * * * * \n",
      "      * * * \n",
      "        * * \n",
      "          * \n"
     ]
    }
   ],
   "source": [
    "n = 5\n",
    "for i in range(n):\n",
    "    for j in range(i+1):\n",
    "        print(\" \",end=\" \")\n",
    "\n",
    "    for j in range(i , n):\n",
    "        print('*',end=\" \")\n",
    "\n",
    "    print()"
   ]
  },
  {
   "cell_type": "code",
   "execution_count": 111,
   "metadata": {},
   "outputs": [
    {
     "name": "stdout",
     "output_type": "stream",
     "text": [
      "            * \n",
      "          * * * \n",
      "        * * * * * \n",
      "      * * * * * * * \n",
      "    * * * * * * * * * \n",
      "  * * * * * * * * * * * \n"
     ]
    }
   ],
   "source": [
    "n = 6\n",
    "for i in range(n):\n",
    "    for j in range(i,n):\n",
    "        print(' ',end=' ')\n",
    "    for j in range(i):\n",
    "        print('*',end=' ')\n",
    "    for j in range(1+i):\n",
    "        print('*',end=' ')\n",
    "    print()"
   ]
  },
  {
   "cell_type": "code",
   "execution_count": 110,
   "metadata": {},
   "outputs": [
    {
     "name": "stdout",
     "output_type": "stream",
     "text": [
      "  * * * * * * * * * * * \n",
      "    * * * * * * * * * \n",
      "      * * * * * * * \n",
      "        * * * * * \n",
      "          * * * \n",
      "            * \n"
     ]
    }
   ],
   "source": [
    "for i in range(n):\n",
    "    for j in range(i+1):\n",
    "        print(' ',end=' ')\n",
    "    for j in range(i,n):\n",
    "        print('*',end=' ')\n",
    "    for j in range(i,n-1):\n",
    "        print('*',end=' ')\n",
    "    print()"
   ]
  },
  {
   "cell_type": "code",
   "execution_count": 127,
   "metadata": {},
   "outputs": [
    {
     "name": "stdout",
     "output_type": "stream",
     "text": [
      "            * \n",
      "          * * * \n",
      "        * * * * * \n",
      "      * * * * * * * \n",
      "    * * * * * * * * * \n",
      "  * * * * * * * * * * * \n",
      "  * * * * * * * * * * * \n",
      "    * * * * * * * * * \n",
      "      * * * * * * * \n",
      "        * * * * * \n",
      "          * * * \n",
      "            * \n"
     ]
    }
   ],
   "source": [
    "for i in range(n):\n",
    "    for j in range(i,n):\n",
    "        print(' ',end = \" \")\n",
    "    for j in range(i+1):\n",
    "        print('*',end=' ')\n",
    "    for i in range(1+i-1):\n",
    "        print('*',end=' ')\n",
    "\n",
    "    print()\n",
    "\n",
    "for i in range(n):\n",
    "    for j in range(i+1):\n",
    "        print(' ',end=' ')\n",
    "    for j in range(i,n):\n",
    "        print('*',end=' ')\n",
    "    for j in range(i,n-1):\n",
    "        print('*',end=' ')\n",
    "    print()"
   ]
  },
  {
   "cell_type": "code",
   "execution_count": 133,
   "metadata": {},
   "outputs": [
    {
     "name": "stdout",
     "output_type": "stream",
     "text": [
      "* # # # # # # # # # \n",
      "* * # # # # # # # \n",
      "* * * # # # # # \n",
      "* * * * # # # \n",
      "* * * * * # \n"
     ]
    }
   ],
   "source": [
    "n = 5\n",
    "for i in range(n):\n",
    "    for j in range(i+1):\n",
    "        print('*',end=' ')\n",
    "    for j in range(i,n):\n",
    "        print(\"#\",end=\" \")\n",
    "    for j in range(i,n-1):\n",
    "        print(\"#\",end=\" \")\n",
    "    print()"
   ]
  },
  {
   "cell_type": "code",
   "execution_count": 1,
   "metadata": {},
   "outputs": [
    {
     "name": "stdout",
     "output_type": "stream",
     "text": [
      "* \n",
      "* * \n",
      "* * * \n",
      "* * * * \n",
      "* * * * * \n",
      "* * * * * * \n",
      "* * * * * * * \n",
      "* * * * * * * * \n",
      "* * * * * * * * * \n",
      "* * * * * * * * * * \n"
     ]
    }
   ],
   "source": [
    "n = 10 \n",
    "for i in range(n):\n",
    "    for i in range(i+1):\n",
    "        print(\"*\",end = \" \")\n",
    "    print( )"
   ]
  },
  {
   "cell_type": "code",
   "execution_count": 2,
   "metadata": {},
   "outputs": [
    {
     "name": "stdout",
     "output_type": "stream",
     "text": [
      "153\n",
      "370\n",
      "370\n",
      "371\n",
      "407\n"
     ]
    }
   ],
   "source": [
    "for i in range(100,1000):\n",
    "    i = str(i)\n",
    "    length = len(i)\n",
    "    sum = 0\n",
    "    for j in i:\n",
    "        sum += int(j)**length\n",
    "        if int(i) == sum:\n",
    "            print(i)\n"
   ]
  },
  {
   "cell_type": "markdown",
   "metadata": {},
   "source": [
    "# Fcatorial of NUmber\n"
   ]
  },
  {
   "cell_type": "code",
   "execution_count": 4,
   "metadata": {},
   "outputs": [
    {
     "name": "stdout",
     "output_type": "stream",
     "text": [
      "the factorial of 10 is 3628800\n"
     ]
    }
   ],
   "source": [
    "num = int(input(\"Enter a Number: \"))\n",
    "fact = 1\n",
    "a = 1\n",
    "while a<=num:\n",
    "    fact = fact*a\n",
    "    a = a+1\n",
    "\n",
    "\n",
    "print(f\"the factorial of {num} is {fact}\")"
   ]
  },
  {
   "cell_type": "code",
   "execution_count": 10,
   "metadata": {},
   "outputs": [
    {
     "name": "stdout",
     "output_type": "stream",
     "text": [
      "SHubham welcome onboard, mumbai is popping now\n"
     ]
    }
   ],
   "source": [
    "usr_input = int(input(\"press 1 for login and 2 for regi\"))\n",
    "\n",
    "match usr_input:\n",
    "        \n",
    "        case 1:\n",
    "            name = input(\"Enter a name\")\n",
    "            password = input(\"Enter a password\")\n",
    "            print(f\"{name} welcome again\")\n",
    "\n",
    "        case 2:\n",
    "            name = input(\"Enter a name\")\n",
    "            password = input(\"Enter a password\")\n",
    "            place = input(\"Where are you from\")\n",
    "            print(f\"{name} welcome onboard, {place} is popping now\")\n",
    "            "
   ]
  },
  {
   "cell_type": "code",
   "execution_count": 13,
   "metadata": {},
   "outputs": [
    {
     "name": "stdout",
     "output_type": "stream",
     "text": [
      "text classification is a machine learning technique that categorizes text into predefined groups.\n",
      "it's a key part of natural language processing (nlp).\n"
     ]
    },
    {
     "name": "stderr",
     "output_type": "stream",
     "text": [
      "[nltk_data] Downloading package punkt_tab to\n",
      "[nltk_data]     /home/shubham/nltk_data...\n",
      "[nltk_data]   Package punkt_tab is already up-to-date!\n"
     ]
    }
   ],
   "source": [
    "import nltk\n",
    "import re\n",
    "import numpy as np\n",
    "nltk.download('punkt_tab')\n",
    "\n",
    "text = \"Text classification is a machine learning technique that categorizes text into predefined groups. It's a key part of natural language processing (NLP).\"\n",
    "\n",
    "dataset = nltk.sent_tokenize(text)\n",
    "for i in range(len(dataset)):\n",
    "    dataset[i] = dataset[i].lower()\n",
    "    print(dataset[i])"
   ]
  },
  {
   "cell_type": "code",
   "execution_count": 14,
   "metadata": {},
   "outputs": [
    {
     "ename": "NameError",
     "evalue": "name 'freq_words' is not defined",
     "output_type": "error",
     "traceback": [
      "\u001b[0;31m---------------------------------------------------------------------------\u001b[0m",
      "\u001b[0;31mNameError\u001b[0m                                 Traceback (most recent call last)",
      "Cell \u001b[0;32mIn[14], line 4\u001b[0m\n\u001b[1;32m      2\u001b[0m \u001b[38;5;28;01mfor\u001b[39;00m data \u001b[38;5;129;01min\u001b[39;00m dataset: \n\u001b[1;32m      3\u001b[0m \tvector \u001b[38;5;241m=\u001b[39m [] \n\u001b[0;32m----> 4\u001b[0m \t\u001b[38;5;28;01mfor\u001b[39;00m word \u001b[38;5;129;01min\u001b[39;00m freq_words: \n\u001b[1;32m      5\u001b[0m \t\t\u001b[38;5;28;01mif\u001b[39;00m word \u001b[38;5;129;01min\u001b[39;00m nltk\u001b[38;5;241m.\u001b[39mword_tokenize(data): \n\u001b[1;32m      6\u001b[0m \t\t\tvector\u001b[38;5;241m.\u001b[39mappend(\u001b[38;5;241m1\u001b[39m) \n",
      "\u001b[0;31mNameError\u001b[0m: name 'freq_words' is not defined"
     ]
    }
   ],
   "source": [
    "X = [] \n",
    "for data in dataset: \n",
    "\tvector = [] \n",
    "\tfor word in freq_words: \n",
    "\t\tif word in nltk.word_tokenize(data): \n",
    "\t\t\tvector.append(1) \n",
    "\t\telse: \n",
    "\t\t\tvector.append(0) \n",
    "\tX.append(vector) \n",
    "X = np.asarray(X) \n"
   ]
  },
  {
   "cell_type": "code",
   "execution_count": 15,
   "metadata": {},
   "outputs": [
    {
     "ename": "ValueError",
     "evalue": "Iterable over raw text documents expected, string object received.",
     "output_type": "error",
     "traceback": [
      "\u001b[0;31m---------------------------------------------------------------------------\u001b[0m",
      "\u001b[0;31mValueError\u001b[0m                                Traceback (most recent call last)",
      "Cell \u001b[0;32mIn[15], line 14\u001b[0m\n\u001b[1;32m      9\u001b[0m     feature_names \u001b[38;5;241m=\u001b[39m vectorizer\u001b[38;5;241m.\u001b[39mget_feature_names_out()  \n\u001b[1;32m     11\u001b[0m     \u001b[38;5;28;01mreturn\u001b[39;00m feature_names, vector_array  \n\u001b[0;32m---> 14\u001b[0m features, vectors \u001b[38;5;241m=\u001b[39m bag_of_words(text)  \n\u001b[1;32m     16\u001b[0m \u001b[38;5;28mprint\u001b[39m(\u001b[38;5;124m\"\u001b[39m\u001b[38;5;124mFeature Names:\u001b[39m\u001b[38;5;124m\"\u001b[39m, features)  \n\u001b[1;32m     17\u001b[0m \u001b[38;5;28mprint\u001b[39m(\u001b[38;5;124m\"\u001b[39m\u001b[38;5;124mVector Representation:\u001b[39m\u001b[38;5;130;01m\\n\u001b[39;00m\u001b[38;5;124m\"\u001b[39m, vectors)\n",
      "Cell \u001b[0;32mIn[15], line 5\u001b[0m, in \u001b[0;36mbag_of_words\u001b[0;34m(text)\u001b[0m\n\u001b[1;32m      3\u001b[0m \u001b[38;5;28;01mdef\u001b[39;00m \u001b[38;5;21mbag_of_words\u001b[39m(text):\n\u001b[1;32m      4\u001b[0m     vectorizer \u001b[38;5;241m=\u001b[39m CountVectorizer()  \n\u001b[0;32m----> 5\u001b[0m     X \u001b[38;5;241m=\u001b[39m vectorizer\u001b[38;5;241m.\u001b[39mfit_transform(text)  \n\u001b[1;32m      7\u001b[0m     \u001b[38;5;66;03m# Convert the sparse matrix to a dense format and then to an array  \u001b[39;00m\n\u001b[1;32m      8\u001b[0m     vector_array \u001b[38;5;241m=\u001b[39m X\u001b[38;5;241m.\u001b[39mtoarray()  \n",
      "File \u001b[0;32m~/anaconda3/lib/python3.12/site-packages/sklearn/base.py:1473\u001b[0m, in \u001b[0;36m_fit_context.<locals>.decorator.<locals>.wrapper\u001b[0;34m(estimator, *args, **kwargs)\u001b[0m\n\u001b[1;32m   1466\u001b[0m     estimator\u001b[38;5;241m.\u001b[39m_validate_params()\n\u001b[1;32m   1468\u001b[0m \u001b[38;5;28;01mwith\u001b[39;00m config_context(\n\u001b[1;32m   1469\u001b[0m     skip_parameter_validation\u001b[38;5;241m=\u001b[39m(\n\u001b[1;32m   1470\u001b[0m         prefer_skip_nested_validation \u001b[38;5;129;01mor\u001b[39;00m global_skip_validation\n\u001b[1;32m   1471\u001b[0m     )\n\u001b[1;32m   1472\u001b[0m ):\n\u001b[0;32m-> 1473\u001b[0m     \u001b[38;5;28;01mreturn\u001b[39;00m fit_method(estimator, \u001b[38;5;241m*\u001b[39margs, \u001b[38;5;241m*\u001b[39m\u001b[38;5;241m*\u001b[39mkwargs)\n",
      "File \u001b[0;32m~/anaconda3/lib/python3.12/site-packages/sklearn/feature_extraction/text.py:1350\u001b[0m, in \u001b[0;36mCountVectorizer.fit_transform\u001b[0;34m(self, raw_documents, y)\u001b[0m\n\u001b[1;32m   1346\u001b[0m \u001b[38;5;66;03m# We intentionally don't call the transform method to make\u001b[39;00m\n\u001b[1;32m   1347\u001b[0m \u001b[38;5;66;03m# fit_transform overridable without unwanted side effects in\u001b[39;00m\n\u001b[1;32m   1348\u001b[0m \u001b[38;5;66;03m# TfidfVectorizer.\u001b[39;00m\n\u001b[1;32m   1349\u001b[0m \u001b[38;5;28;01mif\u001b[39;00m \u001b[38;5;28misinstance\u001b[39m(raw_documents, \u001b[38;5;28mstr\u001b[39m):\n\u001b[0;32m-> 1350\u001b[0m     \u001b[38;5;28;01mraise\u001b[39;00m \u001b[38;5;167;01mValueError\u001b[39;00m(\n\u001b[1;32m   1351\u001b[0m         \u001b[38;5;124m\"\u001b[39m\u001b[38;5;124mIterable over raw text documents expected, string object received.\u001b[39m\u001b[38;5;124m\"\u001b[39m\n\u001b[1;32m   1352\u001b[0m     )\n\u001b[1;32m   1354\u001b[0m \u001b[38;5;28mself\u001b[39m\u001b[38;5;241m.\u001b[39m_validate_ngram_range()\n\u001b[1;32m   1355\u001b[0m \u001b[38;5;28mself\u001b[39m\u001b[38;5;241m.\u001b[39m_warn_for_unused_params()\n",
      "\u001b[0;31mValueError\u001b[0m: Iterable over raw text documents expected, string object received."
     ]
    }
   ],
   "source": [
    "from sklearn.feature_extraction.text import CountVectorizer  \n",
    "\n",
    "def bag_of_words(text):\n",
    "    vectorizer = CountVectorizer()  \n",
    "    X = vectorizer.fit_transform(text)  \n",
    "\n",
    "    vector_array = X.toarray()  \n",
    "    feature_names = vectorizer.get_feature_names_out()  \n",
    "    \n",
    "    return feature_names, vector_array  \n",
    "\n",
    "\n",
    "features, vectors = bag_of_words(text)  \n",
    "\n",
    "print(\"Feature Names:\", features)  \n",
    "print(\"Vector Representation:\\n\", vectors)"
   ]
  },
  {
   "cell_type": "code",
   "execution_count": 27,
   "metadata": {},
   "outputs": [
    {
     "name": "stdout",
     "output_type": "stream",
     "text": [
      "Combinations of length 1: [(1,), (2,), (3,), (4,)]\n",
      "Combinations of length 2: [(1, 2), (1, 3), (1, 4), (2, 3), (2, 4), (3, 4)]\n",
      "Combinations of length 3: [(1, 2, 3), (1, 2, 4), (1, 3, 4), (2, 3, 4)]\n",
      "Combinations of length 4: [(1, 2, 3, 4)]\n"
     ]
    }
   ],
   "source": [
    "import itertools  \n",
    "\n",
    "numbers = [1, 2, 3, 4]  \n",
    "\n",
    "for r in range(1, len(numbers) + 1):  \n",
    "    combinations = list(itertools.combinations(numbers, r))  \n",
    "    print(f\"Combinations of length {r}:\", combinations)"
   ]
  },
  {
   "cell_type": "code",
   "execution_count": 5,
   "metadata": {},
   "outputs": [
    {
     "name": "stdout",
     "output_type": "stream",
     "text": [
      "HCF = 1\n",
      "HCF = 2\n",
      "HCF = 3\n",
      "HCF = 4\n",
      "HCF = 6\n",
      "HCF = 12\n"
     ]
    }
   ],
   "source": [
    "## HCF highest common factor\n",
    "num1 = int(input(\"Enter a number\"))\n",
    "num2 = int(input(\"enter 2nd num\"))\n",
    "\n",
    "\n",
    "if num1>num2:\n",
    "    mn = num1\n",
    "else:\n",
    "    mn = num2\n",
    "\n",
    "for i in range(1,mn+1):\n",
    "    if(num1%i == 0 and num2%i==0):\n",
    "        hcf = i\n",
    "        print(f\"HCF = {i}\")\n"
   ]
  },
  {
   "cell_type": "code",
   "execution_count": null,
   "metadata": {},
   "outputs": [],
   "source": []
  }
 ],
 "metadata": {
  "kernelspec": {
   "display_name": "base",
   "language": "python",
   "name": "python3"
  },
  "language_info": {
   "codemirror_mode": {
    "name": "ipython",
    "version": 3
   },
   "file_extension": ".py",
   "mimetype": "text/x-python",
   "name": "python",
   "nbconvert_exporter": "python",
   "pygments_lexer": "ipython3",
   "version": "3.12.7"
  }
 },
 "nbformat": 4,
 "nbformat_minor": 2
}
