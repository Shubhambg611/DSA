{
 "cells": [
  {
   "cell_type": "markdown",
   "metadata": {},
   "source": [
    "## Regex in python \n",
    "\n",
    "Regular expression "
   ]
  },
  {
   "cell_type": "code",
   "execution_count": 1,
   "metadata": {},
   "outputs": [
    {
     "name": "stdout",
     "output_type": "stream",
     "text": [
      "<re.Match object; span=(305, 311), match='Travel'>\n",
      "Travel\n",
      "<re.Match object; span=(417, 423), match='Cravel'>\n",
      "Cravel\n",
      "<re.Match object; span=(491, 497), match='Mravel'>\n",
      "Mravel\n"
     ]
    }
   ],
   "source": [
    "import re\n",
    "\n",
    "pattern = r\"[A-Z]+ravel\"\n",
    "\n",
    "text = \"\"\"\n",
    "Cars have revolutionized transportation, providing a convenient and efficient way for people to travel long distances quickly. \n",
    "They offer a sense of freedom and independence, allowing individuals to explore new places at their own pace. \n",
    "Over the years, advancements in technology have made cars safer, Travel more fuel-efficient, and environmentally friendly. \n",
    "Electric vehicles are becoming increasingly popular, Cravel representing a shift towards sustainable transportation. \n",
    "Overall, Mravel cars remain a significant part of modern life, shaping the way we live and connect with the world around us.\n",
    "\"\"\"\n",
    "\n",
    "#match =  re.search(pattern,text)\n",
    "\n",
    "matches = re.finditer(pattern,text)\n",
    "for match in matches:\n",
    "    print(match)\n",
    "    print(text[match.span()[0]:match.span()[1]])"
   ]
  },
  {
   "cell_type": "code",
   "execution_count": 2,
   "metadata": {},
   "outputs": [
    {
     "name": "stdout",
     "output_type": "stream",
     "text": [
      "support@example.com\n",
      "subscribe@example.com\n",
      "sales@example.com\n"
     ]
    }
   ],
   "source": [
    "import re\n",
    "\n",
    "pattern = r\"[a-zA-Z0-9._%+-]+@[a-zA-Z0-9.-]+\\.[a-zA-Z]{2,}\"\n",
    "\n",
    "text = \"\"\"If you have any questions, please reach out to us at support@example.com. \n",
    "We’re here to help with any inquiries you may have regarding our services. \n",
    "Additionally, you can subscribe to our newsletter by sending an email to subscribe@example.com. \n",
    "Feel free to contact our sales team for more information at sales@example.com. Thank you!\"\"\"\n",
    "\n",
    "\n",
    "matches = re.findall(pattern,text)\n",
    "for match in matches:\n",
    "    print(match)\n"
   ]
  },
  {
   "cell_type": "code",
   "execution_count": 9,
   "metadata": {},
   "outputs": [
    {
     "name": "stdout",
     "output_type": "stream",
     "text": [
      "{'i': 11, 'believe': 1, 'am': 4, 'a': 6, 'great': 1, 'fit': 1, 'for': 3, 'this': 4, 'position': 1, 'due': 1, 'to': 8, 'my': 8, 'strong': 2, 'background': 1, 'in': 6, 'machine': 3, 'learning': 4, 'deep': 1, 'and': 10, 'aidriven': 2, 'automation': 3, 'experience': 2, 'spans': 1, 'across': 1, 'data': 3, 'science': 1, 'model': 3, 'evaluation': 2, 'software': 1, 'development': 1, 'with': 4, 'handson': 2, 'expertise': 2, 'python': 1, 'sql': 1, 'tensorflow': 1, 'pytorch': 1, 'scikitlearn': 1, 'during': 1, 'internship': 1, 'at': 2, 'feynn': 1, 'labs': 1, 'worked': 1, 'on': 2, 'backorder': 1, 'prediction': 2, 'business': 1, 'financial': 2, 'modeling': 1, 'where': 2, 'integrated': 1, 'ai': 4, 'insights': 1, 'into': 1, 'planning': 1, 'optimize': 1, 'profitability': 1, 'additionally': 1, 'as': 1, 'analyst': 1, 'intern': 1, 'technocolabs': 1, 'softwares': 1, 'conducted': 1, 'credit': 1, 'risk': 1, 'analysis': 1, 'the': 2, 'european': 1, 'lending': 2, 'platform': 2, 'bondora': 1, 'deploying': 1, 'models': 1, 'assess': 1, 'risks': 1, 'one': 1, 'of': 2, 'most': 1, 'impactful': 1, 'projects': 1, 'is': 1, 'an': 2, 'automl': 1, 'which': 1, 'developed': 2, 'automate': 1, 'preprocessing': 1, 'training': 1, 'through': 1, 'webbased': 1, 'interface': 1, 'using': 1, 'flask': 1, 'react': 1, 'mongodb': 1, 'mysql': 1, 'project': 2, 'aligns': 1, 'goal': 1, 'making': 1, 'accessible': 1, 'while': 1, 'enhancing': 1, 'workflows': 1, 'also': 1, 'finalist': 1, 'kongsberg': 1, 'maritime': 1, 'techathon': 1, '2024': 1, 'datadriven': 2, 'energy': 2, 'efficiency': 1, 'integrating': 1, 'solar': 1, 'forecasting': 1, 'power': 1, 'consumption': 1, 'optimization': 1, 'problemsolving': 1, 'skills': 2, 'ability': 1, 'develop': 1, 'innovative': 1, 'solutions': 1, 'make': 1, 'me': 1, 'excellent': 1, 'candidate': 1, 'role': 2, 'technical': 1, 'passion': 1, 'leveraging': 1, 'realworld': 1, 'applications': 1, 'confident': 1, 'that': 1, 'can': 1, 'contribute': 1, 'effectively': 1, 'your': 1, 'team': 1, 'eager': 1, 'bring': 1, 'mindset': 1, 'drive': 1, 'meaningful': 1, 'impact': 1}\n",
      "<class 'dict'>\n"
     ]
    }
   ],
   "source": [
    "import string\n",
    "from collections import Counter\n",
    "\n",
    "def count_word_frequency(file_path):\n",
    "\n",
    "    try:\n",
    "        with open(file_path, 'r') as file:\n",
    "            text = file.read()\n",
    "        \n",
    "        # Remove punctuation and convert text to lowercase\n",
    "        translator = str.maketrans('', '', string.punctuation)\n",
    "        cleaned_text = text.translate(translator).lower()\n",
    "        \n",
    "        # Split text into words\n",
    "        words = cleaned_text.split()\n",
    "        \n",
    "        # Count word frequencies\n",
    "        word_counts = Counter(words)\n",
    "        \n",
    "        return dict(word_counts)\n",
    "    except FileNotFoundError:\n",
    "        print(\"Error: The file does not exist.\")\n",
    "        return {}\n",
    "\n",
    "# Example usage\n",
    "file_path = 'example.txt'  # Replace with your file path\n",
    "word_frequency = count_word_frequency(file_path)\n",
    "print(word_frequency)\n",
    "\n",
    "print(type(word_frequency))\n"
   ]
  },
  {
   "cell_type": "code",
   "execution_count": 11,
   "metadata": {},
   "outputs": [
    {
     "name": "stdout",
     "output_type": "stream",
     "text": [
      "WeakPass: password must contain atlaest one digit\n",
      "StrongP@ss1: Password must contain at least one soecial character\n",
      "nopunctuation1: Password Must contain atleast one uppercase\n",
      "SHORT1!: Password must be of 8 char\n",
      "ValidPass#9: Password must contain at least one soecial character\n",
      "Shubham@5050: Password must contain at least one soecial character\n"
     ]
    }
   ],
   "source": [
    "import re\n",
    "\n",
    "def val_pass(password):\n",
    "    if len(password) < 8:\n",
    "        return \"Password must be of 8 char\"\n",
    "    \n",
    "    if not re.search(r'[A-Z]', password):\n",
    "        return \"Password Must contain atleast one uppercase\"\n",
    "    \n",
    "    if not re.search(r'[a-z]', password):\n",
    "        return \"Password must contain alteast onw lowercase\"\n",
    "    \n",
    "    if not re.search(r'\\d', password):\n",
    "        return \"password must contain atlaest one digit\"\n",
    "    \n",
    "    if not re.search(r'[!@#$%^&*()_+{}|\\:\"<>?/]', pattern):\n",
    "        return \"Password must contain at least one soecial character\"\n",
    "    \n",
    "    return \"password is invalid\"\n",
    "\n",
    "passwords = [\"WeakPass\", \"StrongP@ss1\", \"nopunctuation1\", \"SHORT1!\", \"ValidPass#9\",\"Shubham@5050\"]\n",
    "for pwd in passwords:\n",
    "    print(f\"{pwd}: {val_pass(pwd)}\")\n",
    "\n",
    "    \n"
   ]
  },
  {
   "cell_type": "code",
   "execution_count": 15,
   "metadata": {},
   "outputs": [],
   "source": [
    "def is_pallindrom(text):\n",
    "    text2 = text[::-1]\n",
    "    if text2 == text:\n",
    "        print(f\"{text} is palindrom\")\n",
    "\n",
    "    else:\n",
    "        print(\"Not Palindrom\") \n"
   ]
  },
  {
   "cell_type": "code",
   "execution_count": 19,
   "metadata": {},
   "outputs": [
    {
     "name": "stdout",
     "output_type": "stream",
     "text": [
      "RARAR is palindrom\n"
     ]
    }
   ],
   "source": [
    "is_pallindrom(\"RARAR\")"
   ]
  },
  {
   "cell_type": "code",
   "execution_count": 4,
   "metadata": {},
   "outputs": [
    {
     "name": "stdout",
     "output_type": "stream",
     "text": [
      "mahbuhS\n"
     ]
    }
   ],
   "source": [
    "## reverse the array\n",
    "\n",
    "def reverseword(s):\n",
    "    s2 = s[::-1]\n",
    "    print(s2)\n",
    "\n",
    "reverseword(\"Shubham\")"
   ]
  },
  {
   "cell_type": "code",
   "execution_count": 11,
   "metadata": {},
   "outputs": [
    {
     "data": {
      "text/plain": [
       "1"
      ]
     },
     "execution_count": 11,
     "metadata": {},
     "output_type": "execute_result"
    }
   ],
   "source": [
    "## find sum of min and max\n",
    "A = [-2,1,-4,5,3]\n",
    "\n",
    "def minmax(A):\n",
    "    n = len(A)\n",
    "    if n == 1:\n",
    "        return A[0]\n",
    "    \n",
    "    if A[0]>A[1]:\n",
    "        maxi = A[0]\n",
    "        mini = A[1]\n",
    "    else: \n",
    "        maxi = A[1]\n",
    "        mini = A[0]\n",
    "\n",
    "    for i in range(2,n):\n",
    "        if A[i]>maxi:\n",
    "            maxi = A[i]\n",
    "        elif A[i]<mini:\n",
    "            mini = A[i]\n",
    "    \n",
    "    return maxi+mini\n",
    "    \n",
    "        \n",
    "        \n",
    "minmax(A)\n"
   ]
  },
  {
   "cell_type": "code",
   "execution_count": 19,
   "metadata": {},
   "outputs": [
    {
     "name": "stdout",
     "output_type": "stream",
     "text": [
      "7\n"
     ]
    }
   ],
   "source": [
    "### Kth smallest element \n",
    "\n",
    "k = 3\n",
    "arr = [7,10,4,3,20,15]\n",
    "\n",
    "arr.sort()\n",
    "\n",
    "print(arr[k-1])"
   ]
  },
  {
   "cell_type": "code",
   "execution_count": 24,
   "metadata": {},
   "outputs": [
    {
     "name": "stdout",
     "output_type": "stream",
     "text": [
      "[-3, -7, 4, 5, 6, 2, 8, 9]\n"
     ]
    }
   ],
   "source": [
    "arr = [2,-3,4,5,6,-7,8,9]\n",
    "n = len(arr)\n",
    "j = 0\n",
    "for i in range(0,n):\n",
    "    if(arr[i]<0):\n",
    "        temp = arr[i]\n",
    "        arr[i] = arr[j]\n",
    "        arr[j]=temp\n",
    "\n",
    "        j = j+1\n",
    "\n",
    "\n",
    "print(arr)\n"
   ]
  },
  {
   "cell_type": "code",
   "execution_count": 29,
   "metadata": {},
   "outputs": [
    {
     "name": "stdout",
     "output_type": "stream",
     "text": [
      "{1, 2, 3, 4, 5}\n"
     ]
    }
   ],
   "source": [
    "a = [1,2,3]\n",
    "b = [4,2,5]\n",
    "c = a + b\n",
    "print(set(c))"
   ]
  },
  {
   "cell_type": "code",
   "execution_count": 38,
   "metadata": {},
   "outputs": [
    {
     "name": "stdout",
     "output_type": "stream",
     "text": [
      "[5, 1, 2, 3, 4]\n"
     ]
    }
   ],
   "source": [
    "A = [1,2,3,4,5]\n",
    "\n",
    "arr = A[-1::] + A[:-1]\n",
    "print(arr)"
   ]
  },
  {
   "cell_type": "code",
   "execution_count": 77,
   "metadata": {},
   "outputs": [
    {
     "name": "stdout",
     "output_type": "stream",
     "text": [
      "9\n"
     ]
    }
   ],
   "source": [
    "## kadene algo\n",
    "\n",
    "arr = [1,2,3,-2,5]\n",
    "n = len(arr)\n",
    "\n",
    "def  maxsub(arr,n):\n",
    "    max_so_far = arr[0]\n",
    "    curr_max = arr[0]\n",
    "\n",
    "    for i in range(1,n):\n",
    "        curr_max = max(arr[i],curr_max + arr[i])\n",
    "        max_so_far = max(max_so_far , curr_max)\n",
    "\n",
    "    print(max_so_far)\n",
    "\n",
    "maxsub(arr,n) "
   ]
  },
  {
   "cell_type": "code",
   "execution_count": 1,
   "metadata": {},
   "outputs": [
    {
     "name": "stdout",
     "output_type": "stream",
     "text": [
      "grebsgnoK\n"
     ]
    }
   ],
   "source": [
    "def reverse_string(s):\n",
    "    rev = \"\"\n",
    "    for char in s:\n",
    "        rev = char + rev\n",
    "    return rev\n",
    "\n",
    "print(reverse_string(\"Kongsberg\"))  # Output: grebsgnoK\n"
   ]
  },
  {
   "cell_type": "code",
   "execution_count": 2,
   "metadata": {},
   "outputs": [
    {
     "name": "stdout",
     "output_type": "stream",
     "text": [
      "mahbuHS\n"
     ]
    }
   ],
   "source": [
    "def reverse_string(s):\n",
    "    rev = \"\"\n",
    "    for char in s:\n",
    "        rev = char + rev\n",
    "    \n",
    "    return rev\n",
    "\n",
    "print(reverse_string(\"SHubham\"))"
   ]
  },
  {
   "cell_type": "code",
   "execution_count": 4,
   "metadata": {},
   "outputs": [
    {
     "data": {
      "text/plain": [
       "[4, 3, 5, 2, 1]"
      ]
     },
     "execution_count": 4,
     "metadata": {},
     "output_type": "execute_result"
    }
   ],
   "source": [
    "lst = [5,4,6,3,2]\n",
    "\n",
    "result = [x-1 for x in lst]\n",
    "result\n"
   ]
  },
  {
   "cell_type": "code",
   "execution_count": 7,
   "metadata": {},
   "outputs": [
    {
     "name": "stdout",
     "output_type": "stream",
     "text": [
      "[1, 3, 5, 7, 9, 11, 13, 15, 17, 19, 21, 23, 25, 27, 29, 31, 33, 35, 37, 39, 41, 43, 45, 47, 49, 51, 53, 55, 57, 59, 61, 63, 65, 67, 69, 71, 73, 75, 77, 79, 81, 83, 85, 87, 89, 91, 93, 95, 97, 99]\n"
     ]
    }
   ],
   "source": [
    "odds = []\n",
    "\n",
    "for i in range(0,101):\n",
    "    if i%2 != 0:\n",
    "        odds.append(i)\n",
    "\n",
    "print(odds)"
   ]
  },
  {
   "cell_type": "code",
   "execution_count": 10,
   "metadata": {},
   "outputs": [
    {
     "data": {
      "text/plain": [
       "{1, 2, 3, 4, 5, 6, 7, 8, 9}"
      ]
     },
     "execution_count": 10,
     "metadata": {},
     "output_type": "execute_result"
    }
   ],
   "source": [
    "lst = [1,2,3,4,5,6,7,8,9,1,2,3,4,5,6,7,8,9]\n",
    "\n",
    "\n",
    "lst = set(lst)\n",
    "lst"
   ]
  },
  {
   "cell_type": "code",
   "execution_count": 12,
   "metadata": {},
   "outputs": [
    {
     "name": "stdout",
     "output_type": "stream",
     "text": [
      "7\n",
      "111\n"
     ]
    }
   ],
   "source": [
    "num = 7 \n",
    "print(num)\n",
    "\n",
    "bin_num = bin(num)[2:]\n",
    "print(bin_num)"
   ]
  },
  {
   "cell_type": "code",
   "execution_count": 13,
   "metadata": {},
   "outputs": [
    {
     "name": "stdout",
     "output_type": "stream",
     "text": [
      "7 5\n"
     ]
    }
   ],
   "source": [
    "## swaping \n",
    "\n",
    "a = 5\n",
    "b = 7\n",
    "\n",
    "a,b = b,a \n",
    "\n",
    "print(a,b)"
   ]
  },
  {
   "cell_type": "code",
   "execution_count": 17,
   "metadata": {},
   "outputs": [
    {
     "name": "stdout",
     "output_type": "stream",
     "text": [
      "Shubham Gadhave\n",
      "\n"
     ]
    }
   ],
   "source": [
    "name = \"Shubham\"\n",
    "s_name = \" Gadhave\"\n",
    "r = name + s_name\n",
    "print(r)\n"
   ]
  },
  {
   "cell_type": "code",
   "execution_count": 22,
   "metadata": {},
   "outputs": [
    {
     "name": "stdout",
     "output_type": "stream",
     "text": [
      "ubh\n"
     ]
    }
   ],
   "source": [
    "r2 = name[2:5]\n",
    "print(r2)"
   ]
  },
  {
   "cell_type": "code",
   "execution_count": 23,
   "metadata": {},
   "outputs": [
    {
     "data": {
      "text/plain": [
       "'SHUBHAM'"
      ]
     },
     "execution_count": 23,
     "metadata": {},
     "output_type": "execute_result"
    }
   ],
   "source": [
    "name.upper()"
   ]
  },
  {
   "cell_type": "code",
   "execution_count": 32,
   "metadata": {},
   "outputs": [
    {
     "name": "stdout",
     "output_type": "stream",
     "text": [
      "the target number is found at 4 location\n",
      "the target number is found at 11 location\n"
     ]
    }
   ],
   "source": [
    "list1 = [4,5,6,7,8,1,3,4,5,4,6,8]\n",
    "target = 8\n",
    "for index,value in enumerate(list1):\n",
    "    if value == target:\n",
    "        print(f\"the target number is found at {index} location\")"
   ]
  },
  {
   "cell_type": "code",
   "execution_count": 33,
   "metadata": {},
   "outputs": [
    {
     "data": {
      "text/plain": [
       "15"
      ]
     },
     "execution_count": 33,
     "metadata": {},
     "output_type": "execute_result"
    }
   ],
   "source": [
    "## lambda function \n",
    "add = lambda x,y:x*y\n",
    "\n",
    "re1 = add(5,3)\n",
    "re1"
   ]
  },
  {
   "cell_type": "code",
   "execution_count": 34,
   "metadata": {},
   "outputs": [
    {
     "name": "stdout",
     "output_type": "stream",
     "text": [
      "[('Laptop', 10), ('Akanksha', 20), ('shubham', 25)]\n"
     ]
    }
   ],
   "source": [
    "student = [('shubham',25),('Akanksha',20),('Laptop',10)]\n",
    "student.sort(key=lambda student:student[1])\n",
    "print(student)"
   ]
  },
  {
   "cell_type": "code",
   "execution_count": 35,
   "metadata": {},
   "outputs": [
    {
     "name": "stdout",
     "output_type": "stream",
     "text": [
      "[2, 4, 6, 8]\n"
     ]
    }
   ],
   "source": [
    "numbers = [1,2,3,4,5,6,7,8,9]\n",
    "even = list(filter(lambda x: x%2 == 0 ,numbers))\n",
    "print(even)"
   ]
  },
  {
   "cell_type": "code",
   "execution_count": 36,
   "metadata": {},
   "outputs": [
    {
     "data": {
      "text/plain": [
       "2.23606797749979"
      ]
     },
     "execution_count": 36,
     "metadata": {},
     "output_type": "execute_result"
    }
   ],
   "source": [
    "import math\n",
    "\n",
    "\n",
    "\n",
    "math.sqrt(5)"
   ]
  },
  {
   "cell_type": "code",
   "execution_count": 725,
   "metadata": {},
   "outputs": [
    {
     "data": {
      "text/plain": [
       "267811495309718127217395834920657515484477923214007124623901790421718609510177840034567457596078883928574320278759056741981342429708462738025736903201"
      ]
     },
     "execution_count": 725,
     "metadata": {},
     "output_type": "execute_result"
    }
   ],
   "source": [
    "import random\n",
    "\n",
    "n1 = random.randint(1,2000000000000000000000000000011111111111111111111111111111111111111111111111111111111111111111111111111111111111111111111111111111111111111111111100000)\n",
    "n1"
   ]
  },
  {
   "cell_type": "code",
   "execution_count": 728,
   "metadata": {},
   "outputs": [
    {
     "data": {
      "text/plain": [
       "datetime.datetime(2025, 2, 6, 16, 19, 21, 218870)"
      ]
     },
     "execution_count": 728,
     "metadata": {},
     "output_type": "execute_result"
    }
   ],
   "source": [
    "import datetime\n",
    "current_time = datetime.datetime.now()\n",
    "current_time"
   ]
  },
  {
   "cell_type": "code",
   "execution_count": 731,
   "metadata": {},
   "outputs": [],
   "source": [
    "x = True\n",
    "y = False\n",
    "result = x or y"
   ]
  },
  {
   "cell_type": "code",
   "execution_count": 738,
   "metadata": {},
   "outputs": [
    {
     "data": {
      "text/plain": [
       "[]"
      ]
     },
     "execution_count": 738,
     "metadata": {},
     "output_type": "execute_result"
    }
   ],
   "source": [
    "my_list = list(range(0))\n",
    "my_list"
   ]
  },
  {
   "cell_type": "code",
   "execution_count": 740,
   "metadata": {},
   "outputs": [
    {
     "data": {
      "text/plain": [
       "30"
      ]
     },
     "execution_count": 740,
     "metadata": {},
     "output_type": "execute_result"
    }
   ],
   "source": [
    "total = sum(range(0,11,2))\n",
    "total"
   ]
  },
  {
   "cell_type": "code",
   "execution_count": 741,
   "metadata": {},
   "outputs": [],
   "source": [
    "class person:\n",
    "    def __init__(self,name,age):\n",
    "        self.name = name\n",
    "        self.age = age\n",
    "\n",
    "\n",
    "person1 = person(\"shubham\",27)"
   ]
  },
  {
   "cell_type": "code",
   "execution_count": 742,
   "metadata": {},
   "outputs": [
    {
     "data": {
      "text/plain": [
       "{1, 2, 3, 4, 5, 6, 7, 8, 9}"
      ]
     },
     "execution_count": 742,
     "metadata": {},
     "output_type": "execute_result"
    }
   ],
   "source": [
    "lst"
   ]
  },
  {
   "cell_type": "code",
   "execution_count": 746,
   "metadata": {},
   "outputs": [],
   "source": [
    "lst2 = list(lst)"
   ]
  },
  {
   "cell_type": "code",
   "execution_count": 747,
   "metadata": {},
   "outputs": [
    {
     "data": {
      "text/plain": [
       "[9, 8, 7, 6, 5, 4, 3, 2, 1]"
      ]
     },
     "execution_count": 747,
     "metadata": {},
     "output_type": "execute_result"
    }
   ],
   "source": [
    "lst2[::-1]"
   ]
  },
  {
   "cell_type": "code",
   "execution_count": 752,
   "metadata": {},
   "outputs": [
    {
     "name": "stdout",
     "output_type": "stream",
     "text": [
      "exam on 13/5\n"
     ]
    }
   ],
   "source": [
    "sub = input(\"Enter name of sub\")\n",
    "\n",
    "match sub:\n",
    "    case \"math\":\n",
    "        print(\"exam on 12/5\")\n",
    "\n",
    "    case \"phy\":\n",
    "        print(\"exam on 13/5\")"
   ]
  },
  {
   "cell_type": "code",
   "execution_count": 774,
   "metadata": {},
   "outputs": [],
   "source": [
    "def welcome(fx):\n",
    "    def mfx(*args,**kwrgs):\n",
    "        print(\"good morning\")\n",
    "        fx(*args,**kwrgs)\n",
    "        print(\"Thanks for using \")\n",
    "\n",
    "    return mfx"
   ]
  },
  {
   "cell_type": "code",
   "execution_count": 776,
   "metadata": {},
   "outputs": [],
   "source": [
    "@welcome\n",
    "def name(name):\n",
    "    print(f'welcome onboard{name}')"
   ]
  },
  {
   "cell_type": "code",
   "execution_count": 777,
   "metadata": {},
   "outputs": [
    {
     "name": "stdout",
     "output_type": "stream",
     "text": [
      "good morning\n",
      "welcome onboard shubham\n",
      "Thanks for using \n"
     ]
    }
   ],
   "source": [
    "name(\" shubham\")"
   ]
  },
  {
   "cell_type": "code",
   "execution_count": 778,
   "metadata": {},
   "outputs": [],
   "source": [
    "def is_alnum(input_string):\n",
    "    return input_string.isalnum()"
   ]
  },
  {
   "cell_type": "code",
   "execution_count": 781,
   "metadata": {},
   "outputs": [
    {
     "data": {
      "text/plain": [
       "False"
      ]
     },
     "execution_count": 781,
     "metadata": {},
     "output_type": "execute_result"
    }
   ],
   "source": [
    "is_alnum(\"shubham@15\")"
   ]
  },
  {
   "cell_type": "code",
   "execution_count": null,
   "metadata": {},
   "outputs": [],
   "source": []
  }
 ],
 "metadata": {
  "kernelspec": {
   "display_name": "base",
   "language": "python",
   "name": "python3"
  },
  "language_info": {
   "codemirror_mode": {
    "name": "ipython",
    "version": 3
   },
   "file_extension": ".py",
   "mimetype": "text/x-python",
   "name": "python",
   "nbconvert_exporter": "python",
   "pygments_lexer": "ipython3",
   "version": "3.12.7"
  }
 },
 "nbformat": 4,
 "nbformat_minor": 2
}
