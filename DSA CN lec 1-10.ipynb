{
 "cells": [
  {
   "cell_type": "markdown",
   "id": "fafde3ed",
   "metadata": {},
   "source": [
    "# lecture 1"
   ]
  },
  {
   "cell_type": "markdown",
   "id": "09bf7501",
   "metadata": {},
   "source": [
    "**general things around python:**\n",
    "\n",
    "1. interpreted languge\n",
    "2. object oriented\n",
    "3. ease of writng code\n",
    "4. scope of python"
   ]
  },
  {
   "cell_type": "code",
   "execution_count": 1,
   "id": "8b5cd139",
   "metadata": {},
   "outputs": [
    {
     "name": "stdout",
     "output_type": "stream",
     "text": [
      "shubham learning on\n",
      "Coading Ninjas\n"
     ]
    }
   ],
   "source": [
    "print(\"shubham learning on\")\n",
    "print(\"Coading Ninjas\")"
   ]
  },
  {
   "cell_type": "markdown",
   "id": "b284c3c6",
   "metadata": {},
   "source": [
    "## variable \n",
    "\n",
    "name given to memory location.\n",
    "Rule :\n",
    "\n",
    "1. start with lower or upper case\n",
    "2. or underscore as well \n",
    "\n",
    "example :\n",
    "1. ABC\n",
    "2. abc\n",
    "3. _ab (*not recomended bcous some system variables also start with \" _ \"*)"
   ]
  },
  {
   "cell_type": "code",
   "execution_count": 2,
   "id": "affde15e",
   "metadata": {},
   "outputs": [
    {
     "name": "stdout",
     "output_type": "stream",
     "text": [
      "30\n",
      "a+b\n",
      "shubham\n"
     ]
    }
   ],
   "source": [
    "a = 10\n",
    "b = 20 \n",
    "print(a+b)\n",
    "print('a+b') #it will print string \n",
    "\n",
    "\n",
    "a=\"shubham\"\n",
    "print(a)"
   ]
  },
  {
   "cell_type": "markdown",
   "id": "c1ed7a3a",
   "metadata": {},
   "source": [
    "## ..Data Type..\n",
    "\n",
    "1. int\n",
    "2. string\n",
    "3. float \n",
    "4. double   \n"
   ]
  },
  {
   "cell_type": "code",
   "execution_count": 3,
   "id": "975d96d8",
   "metadata": {},
   "outputs": [
    {
     "name": "stdout",
     "output_type": "stream",
     "text": [
      "<class 'int'>\n",
      "<class 'str'>\n",
      "<class 'float'>\n"
     ]
    }
   ],
   "source": [
    "#how to find datatype of variable \n",
    "a = 5 \n",
    "b = \"shubham\" \n",
    "c = 5.425\n",
    "print(type(a))\n",
    "print(type(b))\n",
    "print(type(c))"
   ]
  },
  {
   "cell_type": "markdown",
   "id": "415b72b0",
   "metadata": {},
   "source": [
    "# Arithmatic Operation in python\n",
    "1. +\n",
    "2. -\n",
    "3. /\n",
    "4. * \n",
    "5. // (floor division (special in python)) \n",
    "4. ** (double star (special in python) to find out the power)"
   ]
  },
  {
   "cell_type": "code",
   "execution_count": 4,
   "id": "b6a01f1d",
   "metadata": {},
   "outputs": [
    {
     "name": "stdout",
     "output_type": "stream",
     "text": [
      "400\n"
     ]
    }
   ],
   "source": [
    "#**\n",
    "a = 20\n",
    "b = 2\n",
    "c=a**b   #(power)\n",
    "print(c)"
   ]
  },
  {
   "cell_type": "code",
   "execution_count": 5,
   "id": "d2609be7",
   "metadata": {},
   "outputs": [
    {
     "name": "stdout",
     "output_type": "stream",
     "text": [
      "1.7\n",
      "1\n"
     ]
    }
   ],
   "source": [
    "# // floor division \n",
    "a = 17\n",
    "b = 10\n",
    "print(a/b)\n",
    "print(a//b)"
   ]
  },
  {
   "cell_type": "markdown",
   "id": "b4f26d6b",
   "metadata": {},
   "source": [
    "# taking input\n",
    "input in python is by defoult stored as string"
   ]
  },
  {
   "cell_type": "code",
   "execution_count": 6,
   "id": "d65c25c1",
   "metadata": {},
   "outputs": [
    {
     "name": "stdout",
     "output_type": "stream",
     "text": [
      "enter a number5\n",
      "5\n",
      "<class 'str'>\n",
      "5\n",
      "<class 'int'>\n"
     ]
    }
   ],
   "source": [
    "a = input(\"enter a number\")\n",
    "print(a)\n",
    "print(type(a))\n",
    "b = int(a)\n",
    "print(b)\n",
    "print(type(b))"
   ]
  },
  {
   "cell_type": "markdown",
   "id": "4467e12a",
   "metadata": {},
   "source": [
    "### easy way to convert to int"
   ]
  },
  {
   "cell_type": "code",
   "execution_count": 7,
   "id": "0173896f",
   "metadata": {},
   "outputs": [
    {
     "name": "stdout",
     "output_type": "stream",
     "text": [
      "enter a number2\n",
      "2\n",
      "<class 'int'>\n"
     ]
    }
   ],
   "source": [
    "a = int(input(\"enter a number\"))\n",
    "print(a)\n",
    "print(type(a))"
   ]
  },
  {
   "cell_type": "markdown",
   "id": "5ab56957",
   "metadata": {},
   "source": [
    "# Lecture 2 "
   ]
  },
  {
   "cell_type": "markdown",
   "id": "8bfabbd7",
   "metadata": {},
   "source": [
    "data structure is fundamental of programming which helps in writing a efficient programs <br>\n",
    "way of organizing data to access it easyly \n",
    "\n",
    "Types of DS:\n",
    "1. linear DS\n",
    "    * arrays \n",
    "    * link list\n",
    "    * stack\n",
    "    * queue (fifo)\n",
    "    * matrix (2d)\n",
    "2. non linear DS\n",
    "    * binary tree (root node)\n",
    "    * heap (stricty grated or less than child node)\n",
    "    * hash table\n",
    "    * Graph (vetices and node)\n",
    "    \n",
    "python specific DS:\n",
    "1. list \n",
    "2. touple\n",
    "3. dictionaty\n",
    "4. set\n",
    "\n",
    "Ds divide in two catagories in python specific \n",
    "1. built in DS\n",
    "    * list \n",
    "    * touple\n",
    "    * dictionaty\n",
    "    * set\n",
    "    \n",
    "2. User drfine DS\n",
    "    * stack \n",
    "    * queue \n",
    "    * trees \n",
    "    * Link list \n",
    "    * graph\n",
    "    "
   ]
  },
  {
   "cell_type": "markdown",
   "id": "9655b4cd",
   "metadata": {},
   "source": [
    "# List \n",
    "Dynamic size array<br>\n",
    "ex = [1,2,\"key\",7,9]<br>\n",
    "usefull to interating a data and preserving its position<br>\n",
    "\n"
   ]
  },
  {
   "cell_type": "code",
   "execution_count": 8,
   "id": "6666569f",
   "metadata": {},
   "outputs": [
    {
     "name": "stdout",
     "output_type": "stream",
     "text": [
      "[]\n"
     ]
    }
   ],
   "source": [
    "list=[]\n",
    "print(list)"
   ]
  },
  {
   "cell_type": "code",
   "execution_count": 9,
   "id": "7ae0253d",
   "metadata": {},
   "outputs": [
    {
     "name": "stdout",
     "output_type": "stream",
     "text": [
      "[1, 2, 3, 4, 5, 6, 7]\n"
     ]
    }
   ],
   "source": [
    "list=[1,2,3,4,5,6,7]\n",
    "print(list)"
   ]
  },
  {
   "cell_type": "code",
   "execution_count": 10,
   "id": "5c370ca3",
   "metadata": {},
   "outputs": [
    {
     "name": "stdout",
     "output_type": "stream",
     "text": [
      "[1, 2, 'key', 4, 5]\n"
     ]
    }
   ],
   "source": [
    "#list with mix type of data (hetrogineous types of data)\n",
    "list=[1,2,\"key\",4,5]\n",
    "print(list)"
   ]
  },
  {
   "cell_type": "code",
   "execution_count": 11,
   "id": "aa45baaf",
   "metadata": {},
   "outputs": [
    {
     "name": "stdout",
     "output_type": "stream",
     "text": [
      "['you', 'can', 'do', 'it']\n"
     ]
    }
   ],
   "source": [
    "list=[\"you\",\"can\",\"do\",\"it\"]\n",
    "print(list)"
   ]
  },
  {
   "cell_type": "markdown",
   "id": "571f3cc9",
   "metadata": {},
   "source": [
    "**Multidimesional List**"
   ]
  },
  {
   "cell_type": "code",
   "execution_count": 12,
   "id": "13c092ba",
   "metadata": {},
   "outputs": [
    {
     "name": "stdout",
     "output_type": "stream",
     "text": [
      "[['shuham', 'is'], ['good', 'boy']]\n"
     ]
    }
   ],
   "source": [
    "list=[[\"shuham\",\"is\"],[\"good\",\"boy\"]]\n",
    "print(list)"
   ]
  },
  {
   "cell_type": "markdown",
   "id": "3ef38fac",
   "metadata": {},
   "source": [
    "**How to cheak the size of list**"
   ]
  },
  {
   "cell_type": "code",
   "execution_count": 13,
   "id": "764a4b72",
   "metadata": {},
   "outputs": [
    {
     "name": "stdout",
     "output_type": "stream",
     "text": [
      "0\n"
     ]
    }
   ],
   "source": [
    "list=[]\n",
    "print(len(list))"
   ]
  },
  {
   "cell_type": "code",
   "execution_count": 14,
   "id": "e6027ea5",
   "metadata": {},
   "outputs": [
    {
     "name": "stdout",
     "output_type": "stream",
     "text": [
      "7\n"
     ]
    }
   ],
   "source": [
    "list=[1,2,3,4,5,6,7]\n",
    "print(len(list))"
   ]
  },
  {
   "cell_type": "markdown",
   "id": "7cad9ce3",
   "metadata": {},
   "source": [
    "**Negative Indexing**<br> (it start from the rear/end and its -1 location and goes backword example [1,2,3,4,5]-[,-5-4,-3,-2,-1])"
   ]
  },
  {
   "cell_type": "code",
   "execution_count": 15,
   "id": "36fa1eb5",
   "metadata": {},
   "outputs": [
    {
     "name": "stdout",
     "output_type": "stream",
     "text": [
      "7\n",
      "6\n",
      "5\n",
      "4\n",
      "3\n"
     ]
    }
   ],
   "source": [
    "list=[1,2,3,4,5,6,7]\n",
    "print(list[-1])\n",
    "print(list[-2])\n",
    "print(list[-3])\n",
    "print(list[-4])\n",
    "print(list[-5])"
   ]
  },
  {
   "cell_type": "markdown",
   "id": "2fe5f968",
   "metadata": {},
   "source": [
    "# tuple\n",
    "values can be of any type<br>\n",
    "index by integer<br>\n",
    "data enterd in tuple is can not be change<br>\n",
    "but only when data inside the tuple is muteble then only we can change the data ibside tuple<br>\n",
    "we can use tuple to show the thing which are fixed<br>\n",
    "**Example = Dates(mon to sun), months(jan to dec)**"
   ]
  },
  {
   "cell_type": "code",
   "execution_count": 16,
   "id": "e969fb72",
   "metadata": {},
   "outputs": [
    {
     "name": "stdout",
     "output_type": "stream",
     "text": [
      "(1, '2', 3, 4)\n",
      "<class 'tuple'>\n"
     ]
    }
   ],
   "source": [
    "tuple=(1,'2',3,4)\n",
    "print(tuple)\n",
    "print(type(tuple))"
   ]
  },
  {
   "cell_type": "code",
   "execution_count": 17,
   "id": "aee9eb5f",
   "metadata": {},
   "outputs": [
    {
     "name": "stdout",
     "output_type": "stream",
     "text": [
      "(1,)\n"
     ]
    }
   ],
   "source": [
    "my_tuple=(1,)\n",
    "print(my_tuple)"
   ]
  },
  {
   "cell_type": "code",
   "execution_count": 18,
   "id": "ef577171",
   "metadata": {},
   "outputs": [
    {
     "name": "stdout",
     "output_type": "stream",
     "text": [
      "<class 'tuple'>\n"
     ]
    }
   ],
   "source": [
    "my_tuple=1,2,3,4,5\n",
    "print(type(my_tuple))"
   ]
  },
  {
   "cell_type": "code",
   "execution_count": 19,
   "id": "691282ac",
   "metadata": {},
   "outputs": [
    {
     "name": "stdout",
     "output_type": "stream",
     "text": [
      "hey\n"
     ]
    }
   ],
   "source": [
    "tuple3=[\"hey\",2,4,5]\n",
    "print(tuple3[0])"
   ]
  },
  {
   "cell_type": "code",
   "execution_count": 21,
   "id": "05324d3b",
   "metadata": {},
   "outputs": [
    {
     "data": {
      "text/plain": [
       "5"
      ]
     },
     "execution_count": 21,
     "metadata": {},
     "output_type": "execute_result"
    }
   ],
   "source": [
    "tuple3[3]"
   ]
  },
  {
   "cell_type": "markdown",
   "id": "e1b0be9e",
   "metadata": {},
   "source": [
    "properties of tuple<br>\n",
    "ones the tuple is cereated we cannot change it"
   ]
  },
  {
   "cell_type": "code",
   "execution_count": 27,
   "id": "441fbeb6",
   "metadata": {},
   "outputs": [
    {
     "ename": "TypeError",
     "evalue": "'tuple' object does not support item assignment",
     "output_type": "error",
     "traceback": [
      "\u001b[1;31m---------------------------------------------------------------------------\u001b[0m",
      "\u001b[1;31mTypeError\u001b[0m                                 Traceback (most recent call last)",
      "\u001b[1;32m~\\AppData\\Local\\Temp/ipykernel_20448/1711674192.py\u001b[0m in \u001b[0;36m<module>\u001b[1;34m\u001b[0m\n\u001b[0;32m      1\u001b[0m \u001b[0ms\u001b[0m\u001b[1;33m=\u001b[0m\u001b[1;33m(\u001b[0m\u001b[1;36m1\u001b[0m\u001b[1;33m,\u001b[0m\u001b[1;36m2\u001b[0m\u001b[1;33m,\u001b[0m\u001b[1;36m3\u001b[0m\u001b[1;33m,\u001b[0m\u001b[1;36m4\u001b[0m\u001b[1;33m,\u001b[0m\u001b[1;36m5\u001b[0m\u001b[1;33m)\u001b[0m\u001b[1;33m\u001b[0m\u001b[1;33m\u001b[0m\u001b[0m\n\u001b[1;32m----> 2\u001b[1;33m \u001b[0ms\u001b[0m\u001b[1;33m[\u001b[0m\u001b[1;36m0\u001b[0m\u001b[1;33m]\u001b[0m\u001b[1;33m=\u001b[0m\u001b[1;34m\"shubham\"\u001b[0m\u001b[1;33m\u001b[0m\u001b[1;33m\u001b[0m\u001b[0m\n\u001b[0m\u001b[0;32m      3\u001b[0m \u001b[0mprint\u001b[0m\u001b[1;33m(\u001b[0m\u001b[0ms\u001b[0m\u001b[1;33m)\u001b[0m\u001b[1;33m\u001b[0m\u001b[1;33m\u001b[0m\u001b[0m\n",
      "\u001b[1;31mTypeError\u001b[0m: 'tuple' object does not support item assignment"
     ]
    }
   ],
   "source": [
    "s=(1,2,3,4,5)\n",
    "s[0]=\"shubham\"\n",
    "print(s) "
   ]
  },
  {
   "cell_type": "markdown",
   "id": "26d4c1d8",
   "metadata": {},
   "source": [
    "# maps in python\n",
    "collection of object stroed by there key unlike sequnce which are stored by there relative position<br>\n",
    "# Dictionary consist:\n",
    "1. Key\n",
    "2. Associated Value(any python object)<br>\n",
    "\n",
    "example : making Phone dictionary\n"
   ]
  },
  {
   "cell_type": "code",
   "execution_count": 33,
   "id": "a2950531",
   "metadata": {},
   "outputs": [
    {
     "name": "stdout",
     "output_type": "stream",
     "text": [
      "{}\n"
     ]
    }
   ],
   "source": [
    "#creat a empty dictionary\n",
    "Dict={}\n",
    "print(Dict)"
   ]
  },
  {
   "cell_type": "code",
   "execution_count": 36,
   "id": "69ed1f32",
   "metadata": {},
   "outputs": [
    {
     "name": "stdout",
     "output_type": "stream",
     "text": [
      "{1: 'Shubham', 2: 'Bharat', 3: 'gadhave'}\n"
     ]
    }
   ],
   "source": [
    "Dict={1:\"Shubham\",2:\"Bharat\",3:\"gadhave\"}\n",
    "print(Dict)"
   ]
  },
  {
   "cell_type": "code",
   "execution_count": 39,
   "id": "aa382b09",
   "metadata": {},
   "outputs": [
    {
     "name": "stdout",
     "output_type": "stream",
     "text": [
      "{'NAME': 'CLASS', 1: [1, 2, 3, 4, 5]}\n"
     ]
    }
   ],
   "source": [
    "#Dict with mix keys\n",
    "Dict={\"NAME\":'CLASS',1:[1,2,3,4,5]}\n",
    "print(Dict)"
   ]
  },
  {
   "cell_type": "code",
   "execution_count": 43,
   "id": "9755ba26",
   "metadata": {},
   "outputs": [
    {
     "name": "stdout",
     "output_type": "stream",
     "text": [
      "{1: 'DSA', 2: 'Python', 3: 'Coading ninjas'}\n"
     ]
    }
   ],
   "source": [
    "#creating dictionary using inbuilt funtion\n",
    "Dict=({1:'DSA',2:'Python',3:'Coading ninjas'})\n",
    "print(Dict)"
   ]
  },
  {
   "cell_type": "code",
   "execution_count": 46,
   "id": "bdbcbdc3",
   "metadata": {},
   "outputs": [
    {
     "name": "stdout",
     "output_type": "stream",
     "text": [
      "[(1, 'hey'), (2, 'shubham')]\n"
     ]
    }
   ],
   "source": [
    "#creating dictionary with each item as pair\n",
    "Dict=([(1,\"hey\"),(2,\"shubham\")])\n",
    "print(Dict,)"
   ]
  },
  {
   "cell_type": "markdown",
   "id": "f70fa70e",
   "metadata": {},
   "source": [
    "# --Set-- (DS in python)\n",
    "\n",
    "Python specific DS unorderd collection of DS which is unorderd collection of data type that is interabele,mutable,no dublicate eliments\n",
    "it have highly optimize method for serching \n"
   ]
  },
  {
   "cell_type": "code",
   "execution_count": 49,
   "id": "7ae54846",
   "metadata": {},
   "outputs": [
    {
     "name": "stdout",
     "output_type": "stream",
     "text": [
      "set()\n",
      "<class 'set'>\n"
     ]
    }
   ],
   "source": [
    "set1=set()\n",
    "print(set1)\n",
    "print(type(set1))"
   ]
  }
 ],
 "metadata": {
  "kernelspec": {
   "display_name": "Python 3 (ipykernel)",
   "language": "python",
   "name": "python3"
  },
  "language_info": {
   "codemirror_mode": {
    "name": "ipython",
    "version": 3
   },
   "file_extension": ".py",
   "mimetype": "text/x-python",
   "name": "python",
   "nbconvert_exporter": "python",
   "pygments_lexer": "ipython3",
   "version": "3.9.7"
  }
 },
 "nbformat": 4,
 "nbformat_minor": 5
}
