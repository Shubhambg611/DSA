{
 "cells": [
  {
   "cell_type": "code",
   "execution_count": 1,
   "metadata": {},
   "outputs": [
    {
     "name": "stdout",
     "output_type": "stream",
     "text": [
      "['s', 'k', 'e', 'e', 'G']\n",
      "['s', 'k', 'e', 'e', 'G']\n"
     ]
    }
   ],
   "source": [
    "### reverce array and string \n",
    "\n",
    "string = [\"G\",\"e\",\"e\",\"k\",\"s\"]\n",
    "\n",
    "#### slicing method \n",
    "\n",
    "k = string[::-1] #### reverse the string \n",
    "print(k)\n",
    "\n",
    "\n",
    "## also\n",
    "l = list(string)\n",
    "l.reverse()\n",
    "print(l)"
   ]
  },
  {
   "cell_type": "markdown",
   "metadata": {},
   "source": [
    "### find the sum of max and min element in an array\n",
    " "
   ]
  },
  {
   "cell_type": "code",
   "execution_count": 2,
   "metadata": {},
   "outputs": [
    {
     "name": "stdout",
     "output_type": "stream",
     "text": [
      "1\n"
     ]
    }
   ],
   "source": [
    "\n",
    "a = [-2,1,-4,5,3]\n",
    "\n",
    "max = max(a)\n",
    "min = min(a)\n",
    "sum = max+min\n",
    "print(sum)"
   ]
  },
  {
   "cell_type": "code",
   "execution_count": 7,
   "metadata": {},
   "outputs": [],
   "source": [
    "a = [-2,1,-4,5,3]          #time complexity O(n)\n",
    " \n",
    "def findsum(self,a,N):\n",
    "    if N == 1:\n",
    "        return a[0]\n",
    "\n",
    "    if a[0]>a[1]:\n",
    "        maxi = a[0]\n",
    "        mini = a[1]\n",
    "\n",
    "    else:\n",
    "        mini = a[0]\n",
    "        maxi = a[1]\n",
    "\n",
    "    for i in range(2,N):\n",
    "        if a[i]>maxi:\n",
    "            maxi = a[i]\n",
    "\n",
    "        elif maxi<a[i]:\n",
    "            mini = a[i]\n",
    "\n",
    "    print (maxi+mini)\n",
    "\n"
   ]
  },
  {
   "cell_type": "code",
   "execution_count": null,
   "metadata": {},
   "outputs": [],
   "source": [
    "## Kth smallest element \n",
    "N = 6\n"
   ]
  },
  {
   "cell_type": "code",
   "execution_count": 11,
   "metadata": {},
   "outputs": [
    {
     "name": "stdout",
     "output_type": "stream",
     "text": [
      "[4, 5, 6]\n",
      "[6, 5, 4]\n",
      "True\n"
     ]
    }
   ],
   "source": [
    "#### reverse the string and check if it is correct \n",
    "\n",
    "\n",
    "\n",
    "num = [4,5,6]\n",
    "print(num)\n",
    "\n",
    "k = num[::-1]\n",
    "\n",
    "print(k)\n",
    "\n",
    "if (num != k):\n",
    "    print(\"True\")\n",
    "else:\n",
    "    print(\"wronog ans\")"
   ]
  },
  {
   "cell_type": "code",
   "execution_count": 13,
   "metadata": {},
   "outputs": [
    {
     "name": "stdout",
     "output_type": "stream",
     "text": [
      "5 is odd\n"
     ]
    }
   ],
   "source": [
    "num = int(input(\"Enter the number\"))\n",
    "\n",
    "if num%2 == 0:\n",
    "    print(f\"{num} is even\")\n",
    "\n",
    "else:\n",
    "    print(f\"{num} is odd\")\n",
    "    \n"
   ]
  },
  {
   "cell_type": "markdown",
   "metadata": {},
   "source": [
    "# Check if the year is leap or not "
   ]
  },
  {
   "cell_type": "code",
   "execution_count": 27,
   "metadata": {},
   "outputs": [
    {
     "name": "stdout",
     "output_type": "stream",
     "text": [
      "2000 is leap year\n"
     ]
    }
   ],
   "source": [
    "### normal year 365 days and leap year have 366 days in year once in 4 years\n",
    "\n",
    "year = int(input(\"enter a year = \"))\n",
    "\n",
    "if year%400 ==0 and year%100 == 0:\n",
    "    print(f\"{year} is leap year\")\n",
    "elif year%4 == 0 and year%100 !=0:\n",
    "    print(f\"{year} is leap year\")\n",
    "else:\n",
    "    print(f\"{year} is not leap year\")\n"
   ]
  },
  {
   "cell_type": "markdown",
   "metadata": {},
   "source": [
    "# Write a program to find the euclidean distance between two coordinates."
   ]
  },
  {
   "cell_type": "code",
   "execution_count": 32,
   "metadata": {},
   "outputs": [
    {
     "name": "stdout",
     "output_type": "stream",
     "text": [
      "5.830951894845301\n"
     ]
    }
   ],
   "source": [
    "x1 = float(input(\"enter x1 coordinate\"))\n",
    "x2 = float(input(\"Enter x2 coordinate\"))\n",
    "y1 = float(input(\"enter y1 cooerdinate\"))\n",
    "y2 = float(input(\"enter y2 coordinate \"))\n",
    "\n",
    "ED = ((x2-x1)**2 + (y2-y1)**2)**0.5\n",
    "print(ED)"
   ]
  },
  {
   "cell_type": "code",
   "execution_count": 34,
   "metadata": {},
   "outputs": [
    {
     "name": "stdout",
     "output_type": "stream",
     "text": [
      "5.830951894845301\n"
     ]
    }
   ],
   "source": [
    "import numpy as np\n",
    "\n",
    "x1 = float(input(\"enter x1 coordinate\"))\n",
    "x2 = float(input(\"Enter x2 coordinate\"))\n",
    "y1 = float(input(\"enter y1 cooerdinate\"))\n",
    "y2 = float(input(\"enter y2 coordinate \"))\n",
    "\n",
    "ED = np.sqrt((x2-x1)**2 + (y2-y1)**2)\n",
    "print(ED)"
   ]
  },
  {
   "cell_type": "code",
   "execution_count": 6,
   "metadata": {},
   "outputs": [
    {
     "name": "stdout",
     "output_type": "stream",
     "text": [
      "(68, 29, 83) can form a triangle \n"
     ]
    }
   ],
   "source": [
    "a1 = int(input(\"enter angle one \"))\n",
    "a2 = int(input(\"angle 2\"))\n",
    "a3 = int(input(\"angle 3\"))\n",
    "\n",
    "tri = a1+a2+a3\n",
    "\n",
    "if tri == 180:\n",
    "    print(f\"{a1,a2,a3} can form a triangle \")\n",
    "\n",
    "else:\n",
    "    print(\"triangle not possible\")"
   ]
  },
  {
   "cell_type": "code",
   "execution_count": 10,
   "metadata": {},
   "outputs": [
    {
     "name": "stdout",
     "output_type": "stream",
     "text": [
      "48500 rs profit is made\n"
     ]
    }
   ],
   "source": [
    "cost = int(input(\"enter a cost price\"))\n",
    "sell = int(input(\"enter a sell price\"))\n",
    "\n",
    "if cost>sell:\n",
    "    print(f\"{cost} cost is higher than {sell} selling price so it is loss of {cost-sell} rs\")\n",
    "\n",
    "else:\n",
    "    print(f\"{sell-cost} rs profit is made\")"
   ]
  },
  {
   "cell_type": "code",
   "execution_count": 16,
   "metadata": {},
   "outputs": [
    {
     "name": "stdout",
     "output_type": "stream",
     "text": [
      "simple intrest of (100000, 6.0, 60) is 30000.0\n"
     ]
    }
   ],
   "source": [
    "### simple intrest \n",
    "\n",
    "principle_amount = int(input(\"Enter a amount : \"))\n",
    "rate_of_intrest = float(input(\"Enter a rate of intrest: \"))\n",
    "time_period = int(input(\"enter a time period of loan\"))\n",
    "\n",
    "simple_intrest = (principle_amount*rate_of_intrest*time_period)/(12*100)\n",
    "\n",
    "print(f\"simple intrest of {principle_amount,rate_of_intrest,time_period} is {simple_intrest}\")"
   ]
  },
  {
   "cell_type": "code",
   "execution_count": 23,
   "metadata": {},
   "outputs": [
    {
     "name": "stdout",
     "output_type": "stream",
     "text": [
      "for filling 6283.19 volume cylender 6.28 liter milk will be needed and it will take 251.33 rs to fill it full\n"
     ]
    }
   ],
   "source": [
    "### volume of cylender\n",
    "import math\n",
    "\n",
    "r = float(input(\"radius\"))\n",
    "h = float(input(\"height\"))\n",
    "\n",
    "volume = (math.pi*(r**2)*h)\n",
    "volume_lit = volume/1000\n",
    "\n",
    "milk = volume_lit*40\n",
    "\n",
    "print(f\"for filling {volume:.2f} volume cylender {volume_lit:.2f} liter milk will be needed and it will take {milk:.2f} rs to fill it full\")\n"
   ]
  },
  {
   "cell_type": "code",
   "execution_count": 31,
   "metadata": {},
   "outputs": [],
   "source": [
    "## check if number is divisible form 3 and 6\n",
    "\n",
    "def is_div(num):\n",
    "\n",
    "    if num%3 ==0 and num%6 ==0:\n",
    "        print(\"number is divisible from both 3 and 6\")\n",
    "\n",
    "    elif num%3 ==0 and num%6 !=0:\n",
    "        print(f\"{num} is divisible from 3 but not from 6\")\n",
    "    \n",
    "    else:\n",
    "        print(f\"{num} is not divisible from 3 and 6\")"
   ]
  },
  {
   "cell_type": "code",
   "execution_count": 32,
   "metadata": {},
   "outputs": [
    {
     "name": "stdout",
     "output_type": "stream",
     "text": [
      "25 is not divisible from 3 and 6\n"
     ]
    }
   ],
   "source": [
    "is_div(25)"
   ]
  },
  {
   "cell_type": "code",
   "execution_count": 4,
   "metadata": {},
   "outputs": [
    {
     "name": "stdout",
     "output_type": "stream",
     "text": [
      "cool\n"
     ]
    }
   ],
   "source": [
    "def weather(temp,hum):\n",
    "    \n",
    "    if temp>=30 and hum >=90:\n",
    "        print(\"hot and humid\")\n",
    "\n",
    "    elif temp >= 30 and hum <90:\n",
    "        print(\"Hot\")\n",
    "\n",
    "    elif temp<30 and hum >=90 :\n",
    "        print (\"cold and humid\")\n",
    "\n",
    "    elif temp <30 and hum <90:\n",
    "        print(\"cool\")\n",
    "\n",
    "\n",
    "weather(25,12)\n",
    "\n",
    "    "
   ]
  },
  {
   "cell_type": "code",
   "execution_count": 5,
   "metadata": {},
   "outputs": [
    {
     "name": "stdout",
     "output_type": "stream",
     "text": [
      "30\n"
     ]
    }
   ],
   "source": [
    "d1 = int(input(\"digit1\"))\n",
    "d2 = int(input(\"digit2\"))\n",
    "d3 = int(input(\"digit3\"))\n",
    "\n",
    "sum = d1**2 + d2**2 + d3**2\n",
    "\n",
    "print(sum)"
   ]
  },
  {
   "cell_type": "code",
   "execution_count": 11,
   "metadata": {},
   "outputs": [],
   "source": [
    "def is_am_strog(num):\n",
    "    nums = str(num)\n",
    "    nums_digits = len(nums)\n",
    "    sum_of_powers = sum(int(nums)** nums_digits for num in nums)\n",
    "\n",
    "    return sum_of_powers == num\n",
    "\n",
    "    if sum_of_powers == num:\n",
    "        print(f\"{num}is_am_strog\")\n",
    "    else:\n",
    "        print(\"not amstrong\")\n"
   ]
  },
  {
   "cell_type": "markdown",
   "metadata": {},
   "source": [
    "## angle between H hand and m hand in clock"
   ]
  },
  {
   "cell_type": "code",
   "execution_count": 21,
   "metadata": {},
   "outputs": [
    {
     "name": "stdout",
     "output_type": "stream",
     "text": [
      "angle between 12 : 30 hand is 165 degree\n"
     ]
    }
   ],
   "source": [
    "class sol:\n",
    "    def get_angle(self,H,M):\n",
    "        h_angle = (H+M/60)*30\n",
    "        m_angle = (M*6)\n",
    "        angle = abs(m_angle-h_angle)\n",
    "        angle = min(angle,360-angle)\n",
    "        angle = int(angle)\n",
    "        print(f\"angle between {H} : {M} hand is {angle} degree\")\n",
    "sol_instance = sol()\n",
    "sol_instance.get_angle(12, 30)"
   ]
  },
  {
   "cell_type": "code",
   "execution_count": null,
   "metadata": {},
   "outputs": [],
   "source": []
  }
 ],
 "metadata": {
  "kernelspec": {
   "display_name": "base",
   "language": "python",
   "name": "python3"
  },
  "language_info": {
   "codemirror_mode": {
    "name": "ipython",
    "version": 3
   },
   "file_extension": ".py",
   "mimetype": "text/x-python",
   "name": "python",
   "nbconvert_exporter": "python",
   "pygments_lexer": "ipython3",
   "version": "3.12.7"
  }
 },
 "nbformat": 4,
 "nbformat_minor": 2
}
