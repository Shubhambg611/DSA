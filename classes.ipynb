{
 "cells": [
  {
   "cell_type": "code",
   "execution_count": 37,
   "metadata": {},
   "outputs": [
    {
     "name": "stdout",
     "output_type": "stream",
     "text": [
      "cookie one is  green\n",
      "cookie two is  blue\n"
     ]
    }
   ],
   "source": [
    "class cookie:\n",
    "    def __init__(self,color):\n",
    "        self.color=color\n",
    "        \n",
    "    def get_color(self):\n",
    "        return self.color\n",
    "    \n",
    "    def set_color(self,color):\n",
    "        self.color = color\n",
    "        \n",
    "cookie_one = cookie(\"green\")\n",
    "cookie_two = cookie(\"blue\")\n",
    "\n",
    "\n",
    "print(\"cookie one is \", cookie_one.get_color())\n",
    "print(\"cookie two is \", cookie_two.get_color())"
   ]
  },
  {
   "cell_type": "code",
   "execution_count": 39,
   "metadata": {},
   "outputs": [
    {
     "name": "stdout",
     "output_type": "stream",
     "text": [
      "cookie one is now  red\n",
      "cookie two is still  blue\n"
     ]
    }
   ],
   "source": [
    "cookie_one.set_color(\"red\")\n",
    "print(\"cookie one is now \", cookie_one.get_color())\n",
    "print(\"cookie two is still \", cookie_two.get_color())"
   ]
  },
  {
   "cell_type": "markdown",
   "metadata": {},
   "source": [
    "# Pointers"
   ]
  },
  {
   "cell_type": "code",
   "execution_count": 42,
   "metadata": {},
   "outputs": [],
   "source": [
    "num1 = 11\n",
    "num2 = num1"
   ]
  },
  {
   "cell_type": "code",
   "execution_count": 44,
   "metadata": {},
   "outputs": [
    {
     "name": "stdout",
     "output_type": "stream",
     "text": [
      "befor num2 value is update:\n",
      "num1 = 11\n",
      "num2 = 11\n",
      "\n",
      "um1 pointer to: 140736401779936\n",
      "num2 pointer to:  140736401779936\n"
     ]
    }
   ],
   "source": [
    "print(\"befor num2 value is update:\")\n",
    "print(\"num1 =\",num1)\n",
    "print(\"num2 =\",num2)\n",
    "\n",
    "\n",
    "print(\"\\num1 pointer to:\",id(num1))\n",
    "print(\"num2 pointer to: \",id(num2))"
   ]
  },
  {
   "cell_type": "code",
   "execution_count": 46,
   "metadata": {},
   "outputs": [
    {
     "name": "stdout",
     "output_type": "stream",
     "text": [
      "\n",
      " After num2 vlaue is updated:\n",
      "num1 = 11\n",
      "num2 = 22\n",
      "\n",
      "num1 pointer to: 140736401779936\n",
      "num2 pointer to:  140736401780288\n"
     ]
    }
   ],
   "source": [
    "num2 = 22\n",
    "\n",
    "print(\"\\n After num2 vlaue is updated:\")\n",
    "print(\"num1 =\",num1)\n",
    "print(\"num2 =\",num2)\n",
    "\n",
    "\n",
    "print(\"\\nnum1 pointer to:\",id(num1))\n",
    "print(\"num2 pointer to: \",id(num2))"
   ]
  },
  {
   "cell_type": "code",
   "execution_count": 48,
   "metadata": {},
   "outputs": [
    {
     "name": "stdout",
     "output_type": "stream",
     "text": [
      "before value is updated:\n",
      "dict1 = {'value': 11}\n",
      "dict2 = {'value': 11}\n",
      "\n",
      "dict 1 pointsto : 2984251098944\n",
      "dict2 ponts to: 2984251098944\n"
     ]
    }
   ],
   "source": [
    "dict1 = {\n",
    "    'value':11\n",
    "}\n",
    "\n",
    "dict2 = dict1\n",
    "\n",
    "print(\"before value is updated:\")\n",
    "print(\"dict1 =\", dict1)\n",
    "print(\"dict2 =\", dict2)\n",
    "\n",
    "\n",
    "print(\"\\ndict 1 pointsto :\", id(dict1))\n",
    "print(\"dict2 ponts to:\",id(dict2))"
   ]
  },
  {
   "cell_type": "markdown",
   "metadata": {},
   "source": [
    "Integer are Immutable If one integer is equal to the another integer, the if 1 integer is changed, another will not be changed. It will have its own value which is said previously"
   ]
  },
  {
   "cell_type": "code",
   "execution_count": 50,
   "metadata": {},
   "outputs": [
    {
     "name": "stdout",
     "output_type": "stream",
     "text": [
      "after value is updated:\n",
      "dict1 = {'value': 22}\n",
      "dict2 = {'value': 22}\n",
      "\n",
      "dict 1 pointsto : 2984251098944\n",
      "dict2 ponts to: 2984251098944\n"
     ]
    }
   ],
   "source": [
    "dict2['value']=22\n",
    "\n",
    "print(\"after value is updated:\")\n",
    "print(\"dict1 =\", dict1)\n",
    "print(\"dict2 =\", dict2)\n",
    "\n",
    "\n",
    "print(\"\\ndict 1 pointsto :\", id(dict1))\n",
    "print(\"dict2 ponts to:\",id(dict2))"
   ]
  },
  {
   "cell_type": "markdown",
   "metadata": {},
   "source": [
    "Dictionaries are mutable if one dictionary change, which is equal to the another, the another will be change also"
   ]
  },
  {
   "cell_type": "code",
   "execution_count": null,
   "metadata": {},
   "outputs": [],
   "source": []
  },
  {
   "cell_type": "code",
   "execution_count": null,
   "metadata": {},
   "outputs": [],
   "source": []
  },
  {
   "cell_type": "code",
   "execution_count": null,
   "metadata": {},
   "outputs": [],
   "source": []
  }
 ],
 "metadata": {
  "kernelspec": {
   "display_name": "Python 3",
   "language": "python",
   "name": "python3"
  },
  "language_info": {
   "codemirror_mode": {
    "name": "ipython",
    "version": 3
   },
   "file_extension": ".py",
   "mimetype": "text/x-python",
   "name": "python",
   "nbconvert_exporter": "python",
   "pygments_lexer": "ipython3",
   "version": "3.8.18"
  }
 },
 "nbformat": 4,
 "nbformat_minor": 2
}
